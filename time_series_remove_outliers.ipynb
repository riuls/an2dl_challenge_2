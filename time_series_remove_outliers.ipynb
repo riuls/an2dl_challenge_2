{
  "metadata": {
    "colab": {
      "provenance": [],
      "gpuType": "T4",
      "include_colab_link": true
    },
    "kernelspec": {
      "name": "python3",
      "display_name": "Python 3"
    },
    "language_info": {
      "name": "python",
      "version": "3.10.12",
      "mimetype": "text/x-python",
      "codemirror_mode": {
        "name": "ipython",
        "version": 3
      },
      "pygments_lexer": "ipython3",
      "nbconvert_exporter": "python",
      "file_extension": ".py"
    },
    "accelerator": "GPU",
    "kaggle": {
      "accelerator": "nvidiaTeslaT4",
      "dataSources": [
        {
          "sourceId": 7218526,
          "sourceType": "datasetVersion",
          "datasetId": 4177830
        }
      ],
      "dockerImageVersionId": 30627,
      "isInternetEnabled": true,
      "language": "python",
      "sourceType": "notebook",
      "isGpuEnabled": true
    }
  },
  "nbformat_minor": 0,
  "nbformat": 4,
  "cells": [
    {
      "cell_type": "markdown",
      "metadata": {
        "id": "view-in-github",
        "colab_type": "text"
      },
      "source": [
        "<a href=\"https://colab.research.google.com/github/riuls/an2dl_challenge_2/blob/luis/time_series_remove_outliers.ipynb\" target=\"_parent\"><img src=\"https://colab.research.google.com/assets/colab-badge.svg\" alt=\"Open In Colab\"/></a>"
      ]
    },
    {
      "cell_type": "code",
      "source": [
        "from google.colab import drive\n",
        "drive.mount('/content/drive')\n",
        "%cd /content/drive/MyDrive/Deep Learning Challenge/an2dl_challenge_2"
      ],
      "metadata": {
        "colab": {
          "base_uri": "https://localhost:8080/"
        },
        "id": "X7NR2Oe9oLRD",
        "outputId": "bb58df4a-0a71-451d-a963-2a7c61c31927",
        "execution": {
          "iopub.status.busy": "2023-12-17T15:13:49.287415Z",
          "iopub.execute_input": "2023-12-17T15:13:49.288481Z",
          "iopub.status.idle": "2023-12-17T15:13:49.293058Z",
          "shell.execute_reply.started": "2023-12-17T15:13:49.288435Z",
          "shell.execute_reply": "2023-12-17T15:13:49.291939Z"
        },
        "trusted": true
      },
      "execution_count": 1,
      "outputs": [
        {
          "output_type": "stream",
          "name": "stdout",
          "text": [
            "Mounted at /content/drive\n",
            "/content/drive/MyDrive/Deep Learning Challenge/an2dl_challenge_2\n"
          ]
        }
      ]
    },
    {
      "cell_type": "code",
      "source": [
        "#import os\n",
        "#os.listdir('/kaggle/input/')\n",
        "#%cd /kaggle/working/"
      ],
      "metadata": {
        "execution": {
          "iopub.status.busy": "2023-12-17T15:13:49.295187Z",
          "iopub.execute_input": "2023-12-17T15:13:49.295550Z",
          "iopub.status.idle": "2023-12-17T15:13:49.304879Z",
          "shell.execute_reply.started": "2023-12-17T15:13:49.295515Z",
          "shell.execute_reply": "2023-12-17T15:13:49.303893Z"
        },
        "trusted": true,
        "id": "FVnAFNA--6Rk"
      },
      "execution_count": 2,
      "outputs": []
    },
    {
      "cell_type": "code",
      "source": [
        "# Fix randomness and hide warnings\n",
        "seed = 42\n",
        "\n",
        "import os\n",
        "os.environ['TF_CPP_MIN_LOG_LEVEL'] = '3'\n",
        "os.environ['PYTHONHASHSEED'] = str(seed)\n",
        "os.environ['MPLCONFIGDIR'] = os.getcwd()+'/configs/'\n",
        "\n",
        "import warnings\n",
        "warnings.simplefilter(action='ignore', category=FutureWarning)\n",
        "warnings.simplefilter(action='ignore', category=Warning)\n",
        "\n",
        "import numpy as np\n",
        "np.random.seed(seed)\n",
        "\n",
        "import logging\n",
        "\n",
        "import random\n",
        "random.seed(seed)"
      ],
      "metadata": {
        "id": "cdQqdMhFoYno",
        "execution": {
          "iopub.status.busy": "2023-12-17T15:13:49.306203Z",
          "iopub.execute_input": "2023-12-17T15:13:49.306539Z",
          "iopub.status.idle": "2023-12-17T15:13:49.313717Z",
          "shell.execute_reply.started": "2023-12-17T15:13:49.306508Z",
          "shell.execute_reply": "2023-12-17T15:13:49.312651Z"
        },
        "trusted": true
      },
      "execution_count": 3,
      "outputs": []
    },
    {
      "cell_type": "code",
      "source": [
        "# Import tensorflow\n",
        "import tensorflow as tf\n",
        "from tensorflow import keras as tfk\n",
        "from tensorflow.keras import layers as tfkl\n",
        "tf.autograph.set_verbosity(0)\n",
        "tf.get_logger().setLevel(logging.ERROR)\n",
        "tf.compat.v1.logging.set_verbosity(tf.compat.v1.logging.ERROR)\n",
        "tf.random.set_seed(seed)\n",
        "tf.compat.v1.set_random_seed(seed)\n",
        "print(tf.__version__)"
      ],
      "metadata": {
        "colab": {
          "base_uri": "https://localhost:8080/"
        },
        "id": "mIE0enxNoYqP",
        "outputId": "64f7b364-d9dd-493b-d264-7b071e8c5e9a",
        "execution": {
          "iopub.status.busy": "2023-12-17T15:13:49.315387Z",
          "iopub.execute_input": "2023-12-17T15:13:49.315971Z",
          "iopub.status.idle": "2023-12-17T15:13:49.332620Z",
          "shell.execute_reply.started": "2023-12-17T15:13:49.315937Z",
          "shell.execute_reply": "2023-12-17T15:13:49.331799Z"
        },
        "trusted": true
      },
      "execution_count": 4,
      "outputs": [
        {
          "output_type": "stream",
          "name": "stdout",
          "text": [
            "2.15.0\n"
          ]
        }
      ]
    },
    {
      "cell_type": "code",
      "source": [
        "import pandas as pd\n",
        "import seaborn as sns\n",
        "from datetime import datetime\n",
        "import matplotlib.pyplot as plt\n",
        "plt.rc('font', size=16)\n",
        "from sklearn.preprocessing import MinMaxScaler"
      ],
      "metadata": {
        "id": "2zhN83IhoYtB",
        "execution": {
          "iopub.status.busy": "2023-12-17T15:13:49.334820Z",
          "iopub.execute_input": "2023-12-17T15:13:49.335112Z",
          "iopub.status.idle": "2023-12-17T15:13:49.342079Z",
          "shell.execute_reply.started": "2023-12-17T15:13:49.335088Z",
          "shell.execute_reply": "2023-12-17T15:13:49.341189Z"
        },
        "trusted": true
      },
      "execution_count": 5,
      "outputs": []
    },
    {
      "cell_type": "code",
      "source": [
        "dataset = np.load('training_data.npy')\n",
        "periods = np.load('valid_periods.npy')\n",
        "cat = np.load('categories.npy')\n",
        "print(dataset.shape)\n",
        "print(periods.shape)\n",
        "print(cat.shape)"
      ],
      "metadata": {
        "colab": {
          "base_uri": "https://localhost:8080/"
        },
        "id": "dRAoKWIHoYvu",
        "outputId": "9f11ad42-e469-4588-bdad-0cb321e38943",
        "execution": {
          "iopub.status.busy": "2023-12-17T15:13:49.343042Z",
          "iopub.execute_input": "2023-12-17T15:13:49.343274Z",
          "iopub.status.idle": "2023-12-17T15:13:49.735315Z",
          "shell.execute_reply.started": "2023-12-17T15:13:49.343253Z",
          "shell.execute_reply": "2023-12-17T15:13:49.734434Z"
        },
        "trusted": true
      },
      "execution_count": 6,
      "outputs": [
        {
          "output_type": "stream",
          "name": "stdout",
          "text": [
            "(48000, 2776)\n",
            "(48000, 2)\n",
            "(48000,)\n"
          ]
        }
      ]
    },
    {
      "cell_type": "code",
      "source": [
        "X = []\n",
        "y = []\n",
        "window = 200\n",
        "telescope = 9\n",
        "stride = 8\n",
        "for i in range(dataset.shape[0]):\n",
        "  j = periods[i,0]\n",
        "  while(j+window+telescope < periods[i,1]):\n",
        "    X.append(dataset[i,j:j+window])\n",
        "    y.append(dataset[i,j+window:j+window+telescope])\n",
        "    j = j+stride"
      ],
      "metadata": {
        "id": "rGMQcgB_BkLZ",
        "execution": {
          "iopub.status.busy": "2023-12-17T15:13:49.736533Z",
          "iopub.execute_input": "2023-12-17T15:13:49.736802Z",
          "iopub.status.idle": "2023-12-17T15:13:50.656628Z",
          "shell.execute_reply.started": "2023-12-17T15:13:49.736779Z",
          "shell.execute_reply": "2023-12-17T15:13:50.655637Z"
        },
        "trusted": true
      },
      "execution_count": 7,
      "outputs": []
    },
    {
      "cell_type": "code",
      "source": [
        "X = np.array(X)\n",
        "y = np.array(y)\n",
        "X.shape, y.shape"
      ],
      "metadata": {
        "colab": {
          "base_uri": "https://localhost:8080/"
        },
        "id": "enKRpiZBD7xM",
        "outputId": "e8a44b21-28ef-4641-b674-c04e0941f2ab",
        "execution": {
          "iopub.status.busy": "2023-12-17T15:13:50.657849Z",
          "iopub.execute_input": "2023-12-17T15:13:50.658112Z",
          "iopub.status.idle": "2023-12-17T15:13:51.134519Z",
          "shell.execute_reply.started": "2023-12-17T15:13:50.658089Z",
          "shell.execute_reply": "2023-12-17T15:13:51.133619Z"
        },
        "trusted": true
      },
      "execution_count": 8,
      "outputs": [
        {
          "output_type": "execute_result",
          "data": {
            "text/plain": [
              "((297278, 200), (297278, 9))"
            ]
          },
          "metadata": {},
          "execution_count": 8
        }
      ]
    },
    {
      "cell_type": "code",
      "source": [
        "import matplotlib.pyplot as plt\n",
        "from scipy import stats\n",
        "\n",
        "# Assuming 'dataset' is a Pandas DataFrame\n",
        "z_scores = np.abs(stats.zscore(X))\n",
        "plt.boxplot(z_scores)\n",
        "plt.show()"
      ],
      "metadata": {
        "colab": {
          "base_uri": "https://localhost:8080/",
          "height": 436
        },
        "id": "PYGiTBHsJS13",
        "outputId": "8ca3f47b-3c79-416d-c5fb-39154a22aeee"
      },
      "execution_count": 9,
      "outputs": [
        {
          "output_type": "display_data",
          "data": {
            "text/plain": [
              "<Figure size 640x480 with 1 Axes>"
            ],
            "image/png": "[encoded data removed]"
          },
          "metadata": {}
        }
      ]
    },
    {
      "cell_type": "code",
      "source": [
        "from scipy import stats\n",
        "\n",
        "def remove_outliers_zscore(X, threshold=50):\n",
        "    z_scores = np.abs(stats.zscore(X))\n",
        "    X_no_outliers = X[(z_scores < threshold).all(axis=1)]  # Change axis to 1\n",
        "    return X_no_outliers\n",
        "\n",
        "# Assuming 'X' is a NumPy array with shape (297278, 48000)\n",
        "cleaned_X = remove_outliers_zscore(X.copy())  # Create a copy to avoid modifying the original\n",
        "print(cleaned_X)\n",
        "X = cleaned_X\n"
      ],
      "metadata": {
        "colab": {
          "base_uri": "https://localhost:8080/"
        },
        "id": "ytMCw7qHJWFF",
        "outputId": "cce0aba1-e4ae-4a1f-864c-1800a85e669f"
      },
      "execution_count": 10,
      "outputs": [
        {
          "output_type": "stream",
          "name": "stdout",
          "text": [
            "[[0.49166667 0.52407407 0.54444444 ... 0.40833333 0.31574074 0.40277778]\n",
            " [0.38333333 0.27962963 0.23796296 ... 0.4537037  0.42777778 0.30185185]\n",
            " [0.37592593 0.38611111 0.32685185 ... 0.39351852 0.275      0.28518519]\n",
            " ...\n",
            " [0.06279217 0.06314483 0.06309976 ... 0.22911281 0.2224043  0.22188724]\n",
            " [0.06607483 0.06487897 0.06546232 ... 0.27046957 0.26280649 0.21785418]\n",
            " [0.06405963 0.06365128 0.06419221 ... 0.18681208 0.17770919 0.17889975]]\n"
          ]
        }
      ]
    },
    {
      "cell_type": "code",
      "source": [
        "df = pd.DataFrame(dataset).T    # solo per visualizzare\n",
        "def inspect_dataframe(df, rows):\n",
        "    figs, axs = plt.subplots(len(rows), 1, sharex=True, figsize=(17,8))\n",
        "    for i, col in enumerate(rows):\n",
        "        axs[i].plot(df[col])\n",
        "        axs[i].set_title(cat[col])\n",
        "    plt.show()\n",
        "inspect_dataframe(df, [2000,2004])"
      ],
      "metadata": {
        "id": "s3qdU9lxoY4D",
        "execution": {
          "iopub.status.busy": "2023-12-17T15:13:51.135839Z",
          "iopub.execute_input": "2023-12-17T15:13:51.136226Z",
          "iopub.status.idle": "2023-12-17T15:13:51.611646Z",
          "shell.execute_reply.started": "2023-12-17T15:13:51.136175Z",
          "shell.execute_reply": "2023-12-17T15:13:51.610776Z"
        },
        "trusted": true,
        "colab": {
          "base_uri": "https://localhost:8080/",
          "height": 711
        },
        "outputId": "dfef7b33-8f1e-44e5-f27b-90bbe4c23190"
      },
      "execution_count": 11,
      "outputs": [
        {
          "output_type": "display_data",
          "data": {
            "text/plain": [
              "<Figure size 1700x800 with 2 Axes>"
            ],
            "image/png": "[encoded data removed]"
          },
          "metadata": {}
        }
      ]
    },
    {
      "cell_type": "code",
      "source": [
        "df.describe()"
      ],
      "metadata": {
        "colab": {
          "base_uri": "https://localhost:8080/",
          "height": 350
        },
        "id": "ZNyLeAluD8ml",
        "outputId": "38e214e3-a952-433a-e383-4e9903388bd4"
      },
      "execution_count": 12,
      "outputs": [
        {
          "output_type": "execute_result",
          "data": {
            "text/plain": [
              "             0            1            2            3            4      \\\n",
              "count  2776.000000  2776.000000  2776.000000  2776.000000  2776.000000   \n",
              "mean      0.054361     0.068751     0.060929     0.011670     0.018159   \n",
              "std       0.140736     0.175865     0.174066     0.082121     0.105274   \n",
              "min       0.000000     0.000000     0.000000     0.000000     0.000000   \n",
              "25%       0.000000     0.000000     0.000000     0.000000     0.000000   \n",
              "50%       0.000000     0.000000     0.000000     0.000000     0.000000   \n",
              "75%       0.000000     0.000000     0.000000     0.000000     0.000000   \n",
              "max       1.000000     1.000000     0.977140     1.000000     1.000000   \n",
              "\n",
              "             5            6            7            8            9      ...  \\\n",
              "count  2776.000000  2776.000000  2776.000000  2776.000000  2776.000000  ...   \n",
              "mean      0.093053     0.014079     0.014560     0.135583     0.036679  ...   \n",
              "std       0.209849     0.088380     0.088222     0.235376     0.135165  ...   \n",
              "min       0.000000     0.000000     0.000000     0.000000     0.000000  ...   \n",
              "25%       0.000000     0.000000     0.000000     0.000000     0.000000  ...   \n",
              "50%       0.000000     0.000000     0.000000     0.000000     0.000000  ...   \n",
              "75%       0.000000     0.000000     0.000000     0.264925     0.000000  ...   \n",
              "max       1.000000     0.878788     0.895000     1.000000     1.000000  ...   \n",
              "\n",
              "             47990        47991        47992        47993        47994  \\\n",
              "count  2776.000000  2776.000000  2776.000000  2776.000000  2776.000000   \n",
              "mean      0.009395     0.010839     0.011264     0.011262     0.010392   \n",
              "std       0.070017     0.070266     0.075342     0.068756     0.067169   \n",
              "min       0.000000     0.000000     0.000000     0.000000     0.000000   \n",
              "25%       0.000000     0.000000     0.000000     0.000000     0.000000   \n",
              "50%       0.000000     0.000000     0.000000     0.000000     0.000000   \n",
              "75%       0.000000     0.000000     0.000000     0.000000     0.000000   \n",
              "max       1.000000     0.898371     0.893487     0.738073     0.882692   \n",
              "\n",
              "             47995        47996        47997        47998        47999  \n",
              "count  2776.000000  2776.000000  2776.000000  2776.000000  2776.000000  \n",
              "mean      0.020130     0.025636     0.024214     0.023126     0.024841  \n",
              "std       0.099564     0.124900     0.129294     0.124293     0.132309  \n",
              "min       0.000000     0.000000     0.000000     0.000000     0.000000  \n",
              "25%       0.000000     0.000000     0.000000     0.000000     0.000000  \n",
              "50%       0.000000     0.000000     0.000000     0.000000     0.000000  \n",
              "75%       0.000000     0.000000     0.000000     0.000000     0.000000  \n",
              "max       1.000000     1.000000     1.000000     1.000000     1.000000  \n",
              "\n",
              "[8 rows x 48000 columns]"
            ],
            "text/html": [
              "\n",
              "  <div id=\"df-cbcca163-112a-4ba7-8e97-aa1120d6b56a\" class=\"colab-df-container\">\n",
              "    <div>\n",
              "<style scoped>\n",
              "    .dataframe tbody tr th:only-of-type {\n",
              "        vertical-align: middle;\n",
              "    }\n",
              "\n",
              "    .dataframe tbody tr th {\n",
              "        vertical-align: top;\n",
              "    }\n",
              "\n",
              "    .dataframe thead th {\n",
              "        text-align: right;\n",
              "    }\n",
              "</style>\n",
              "<table border=\"1\" class=\"dataframe\">\n",
              "  <thead>\n",
              "    <tr style=\"text-align: right;\">\n",
              "      <th></th>\n",
              "      <th>0</th>\n",
              "      <th>1</th>\n",
              "      <th>2</th>\n",
              "      <th>3</th>\n",
              "      <th>4</th>\n",
              "      <th>5</th>\n",
              "      <th>6</th>\n",
              "      <th>7</th>\n",
              "      <th>8</th>\n",
              "      <th>9</th>\n",
              "      <th>...</th>\n",
              "      <th>47990</th>\n",
              "      <th>47991</th>\n",
              "      <th>47992</th>\n",
              "      <th>47993</th>\n",
              "      <th>47994</th>\n",
              "      <th>47995</th>\n",
              "      <th>47996</th>\n",
              "      <th>47997</th>\n",
              "      <th>47998</th>\n",
              "      <th>47999</th>\n",
              "    </tr>\n",
              "  </thead>\n",
              "  <tbody>\n",
              "    <tr>\n",
              "      <th>count</th>\n",
              "      <td>2776.000000</td>\n",
              "      <td>2776.000000</td>\n",
              "      <td>2776.000000</td>\n",
              "      <td>2776.000000</td>\n",
              "      <td>2776.000000</td>\n",
              "      <td>2776.000000</td>\n",
              "      <td>2776.000000</td>\n",
              "      <td>2776.000000</td>\n",
              "      <td>2776.000000</td>\n",
              "      <td>2776.000000</td>\n",
              "      <td>...</td>\n",
              "      <td>2776.000000</td>\n",
              "      <td>2776.000000</td>\n",
              "      <td>2776.000000</td>\n",
              "      <td>2776.000000</td>\n",
              "      <td>2776.000000</td>\n",
              "      <td>2776.000000</td>\n",
              "      <td>2776.000000</td>\n",
              "      <td>2776.000000</td>\n",
              "      <td>2776.000000</td>\n",
              "      <td>2776.000000</td>\n",
              "    </tr>\n",
              "    <tr>\n",
              "      <th>mean</th>\n",
              "      <td>0.054361</td>\n",
              "      <td>0.068751</td>\n",
              "      <td>0.060929</td>\n",
              "      <td>0.011670</td>\n",
              "      <td>0.018159</td>\n",
              "      <td>0.093053</td>\n",
              "      <td>0.014079</td>\n",
              "      <td>0.014560</td>\n",
              "      <td>0.135583</td>\n",
              "      <td>0.036679</td>\n",
              "      <td>...</td>\n",
              "      <td>0.009395</td>\n",
              "      <td>0.010839</td>\n",
              "      <td>0.011264</td>\n",
              "      <td>0.011262</td>\n",
              "      <td>0.010392</td>\n",
              "      <td>0.020130</td>\n",
              "      <td>0.025636</td>\n",
              "      <td>0.024214</td>\n",
              "      <td>0.023126</td>\n",
              "      <td>0.024841</td>\n",
              "    </tr>\n",
              "    <tr>\n",
              "      <th>std</th>\n",
              "      <td>0.140736</td>\n",
              "      <td>0.175865</td>\n",
              "      <td>0.174066</td>\n",
              "      <td>0.082121</td>\n",
              "      <td>0.105274</td>\n",
              "      <td>0.209849</td>\n",
              "      <td>0.088380</td>\n",
              "      <td>0.088222</td>\n",
              "      <td>0.235376</td>\n",
              "      <td>0.135165</td>\n",
              "      <td>...</td>\n",
              "      <td>0.070017</td>\n",
              "      <td>0.070266</td>\n",
              "      <td>0.075342</td>\n",
              "      <td>0.068756</td>\n",
              "      <td>0.067169</td>\n",
              "      <td>0.099564</td>\n",
              "      <td>0.124900</td>\n",
              "      <td>0.129294</td>\n",
              "      <td>0.124293</td>\n",
              "      <td>0.132309</td>\n",
              "    </tr>\n",
              "    <tr>\n",
              "      <th>min</th>\n",
              "      <td>0.000000</td>\n",
              "      <td>0.000000</td>\n",
              "      <td>0.000000</td>\n",
              "      <td>0.000000</td>\n",
              "      <td>0.000000</td>\n",
              "      <td>0.000000</td>\n",
              "      <td>0.000000</td>\n",
              "      <td>0.000000</td>\n",
              "      <td>0.000000</td>\n",
              "      <td>0.000000</td>\n",
              "      <td>...</td>\n",
              "      <td>0.000000</td>\n",
              "      <td>0.000000</td>\n",
              "      <td>0.000000</td>\n",
              "      <td>0.000000</td>\n",
              "      <td>0.000000</td>\n",
              "      <td>0.000000</td>\n",
              "      <td>0.000000</td>\n",
              "      <td>0.000000</td>\n",
              "      <td>0.000000</td>\n",
              "      <td>0.000000</td>\n",
              "    </tr>\n",
              "    <tr>\n",
              "      <th>25%</th>\n",
              "      <td>0.000000</td>\n",
              "      <td>0.000000</td>\n",
              "      <td>0.000000</td>\n",
              "      <td>0.000000</td>\n",
              "      <td>0.000000</td>\n",
              "      <td>0.000000</td>\n",
              "      <td>0.000000</td>\n",
              "      <td>0.000000</td>\n",
              "      <td>0.000000</td>\n",
              "      <td>0.000000</td>\n",
              "      <td>...</td>\n",
              "      <td>0.000000</td>\n",
              "      <td>0.000000</td>\n",
              "      <td>0.000000</td>\n",
              "      <td>0.000000</td>\n",
              "      <td>0.000000</td>\n",
              "      <td>0.000000</td>\n",
              "      <td>0.000000</td>\n",
              "      <td>0.000000</td>\n",
              "      <td>0.000000</td>\n",
              "      <td>0.000000</td>\n",
              "    </tr>\n",
              "    <tr>\n",
              "      <th>50%</th>\n",
              "      <td>0.000000</td>\n",
              "      <td>0.000000</td>\n",
              "      <td>0.000000</td>\n",
              "      <td>0.000000</td>\n",
              "      <td>0.000000</td>\n",
              "      <td>0.000000</td>\n",
              "      <td>0.000000</td>\n",
              "      <td>0.000000</td>\n",
              "      <td>0.000000</td>\n",
              "      <td>0.000000</td>\n",
              "      <td>...</td>\n",
              "      <td>0.000000</td>\n",
              "      <td>0.000000</td>\n",
              "      <td>0.000000</td>\n",
              "      <td>0.000000</td>\n",
              "      <td>0.000000</td>\n",
              "      <td>0.000000</td>\n",
              "      <td>0.000000</td>\n",
              "      <td>0.000000</td>\n",
              "      <td>0.000000</td>\n",
              "      <td>0.000000</td>\n",
              "    </tr>\n",
              "    <tr>\n",
              "      <th>75%</th>\n",
              "      <td>0.000000</td>\n",
              "      <td>0.000000</td>\n",
              "      <td>0.000000</td>\n",
              "      <td>0.000000</td>\n",
              "      <td>0.000000</td>\n",
              "      <td>0.000000</td>\n",
              "      <td>0.000000</td>\n",
              "      <td>0.000000</td>\n",
              "      <td>0.264925</td>\n",
              "      <td>0.000000</td>\n",
              "      <td>...</td>\n",
              "      <td>0.000000</td>\n",
              "      <td>0.000000</td>\n",
              "      <td>0.000000</td>\n",
              "      <td>0.000000</td>\n",
              "      <td>0.000000</td>\n",
              "      <td>0.000000</td>\n",
              "      <td>0.000000</td>\n",
              "      <td>0.000000</td>\n",
              "      <td>0.000000</td>\n",
              "      <td>0.000000</td>\n",
              "    </tr>\n",
              "    <tr>\n",
              "      <th>max</th>\n",
              "      <td>1.000000</td>\n",
              "      <td>1.000000</td>\n",
              "      <td>0.977140</td>\n",
              "      <td>1.000000</td>\n",
              "      <td>1.000000</td>\n",
              "      <td>1.000000</td>\n",
              "      <td>0.878788</td>\n",
              "      <td>0.895000</td>\n",
              "      <td>1.000000</td>\n",
              "      <td>1.000000</td>\n",
              "      <td>...</td>\n",
              "      <td>1.000000</td>\n",
              "      <td>0.898371</td>\n",
              "      <td>0.893487</td>\n",
              "      <td>0.738073</td>\n",
              "      <td>0.882692</td>\n",
              "      <td>1.000000</td>\n",
              "      <td>1.000000</td>\n",
              "      <td>1.000000</td>\n",
              "      <td>1.000000</td>\n",
              "      <td>1.000000</td>\n",
              "    </tr>\n",
              "  </tbody>\n",
              "</table>\n",
              "<p>8 rows × 48000 columns</p>\n",
              "</div>\n",
              "    <div class=\"colab-df-buttons\">\n",
              "\n",
              "  <div class=\"colab-df-container\">\n",
              "    <button class=\"colab-df-convert\" onclick=\"convertToInteractive('df-cbcca163-112a-4ba7-8e97-aa1120d6b56a')\"\n",
              "            title=\"Convert this dataframe to an interactive table.\"\n",
              "            style=\"display:none;\">\n",
              "\n",
              "  <svg xmlns=\"http://www.w3.org/2000/svg\" height=\"24px\" viewBox=\"0 -960 960 960\">\n",
              "    <path d=\"M120-120v-720h720v720H120Zm60-500h600v-160H180v160Zm220 220h160v-160H400v160Zm0 220h160v-160H400v160ZM180-400h160v-160H180v160Zm440 0h160v-160H620v160ZM180-180h160v-160H180v160Zm440 0h160v-160H620v160Z\"/>\n",
              "  </svg>\n",
              "    </button>\n",
              "\n",
              "  <style>\n",
              "    .colab-df-container {\n",
              "      display:flex;\n",
              "      gap: 12px;\n",
              "    }\n",
              "\n",
              "    .colab-df-convert {\n",
              "      background-color: #E8F0FE;\n",
              "      border: none;\n",
              "      border-radius: 50%;\n",
              "      cursor: pointer;\n",
              "      display: none;\n",
              "      fill: #1967D2;\n",
              "      height: 32px;\n",
              "      padding: 0 0 0 0;\n",
              "      width: 32px;\n",
              "    }\n",
              "\n",
              "    .colab-df-convert:hover {\n",
              "      background-color: #E2EBFA;\n",
              "      box-shadow: 0px 1px 2px rgba(60, 64, 67, 0.3), 0px 1px 3px 1px rgba(60, 64, 67, 0.15);\n",
              "      fill: #174EA6;\n",
              "    }\n",
              "\n",
              "    .colab-df-buttons div {\n",
              "      margin-bottom: 4px;\n",
              "    }\n",
              "\n",
              "    [theme=dark] .colab-df-convert {\n",
              "      background-color: #3B4455;\n",
              "      fill: #D2E3FC;\n",
              "    }\n",
              "\n",
              "    [theme=dark] .colab-df-convert:hover {\n",
              "      background-color: #434B5C;\n",
              "      box-shadow: 0px 1px 3px 1px rgba(0, 0, 0, 0.15);\n",
              "      filter: drop-shadow(0px 1px 2px rgba(0, 0, 0, 0.3));\n",
              "      fill: #FFFFFF;\n",
              "    }\n",
              "  </style>\n",
              "\n",
              "    <script>\n",
              "      const buttonEl =\n",
              "        document.querySelector('#df-cbcca163-112a-4ba7-8e97-aa1120d6b56a button.colab-df-convert');\n",
              "      buttonEl.style.display =\n",
              "        google.colab.kernel.accessAllowed ? 'block' : 'none';\n",
              "\n",
              "      async function convertToInteractive(key) {\n",
              "        const element = document.querySelector('#df-cbcca163-112a-4ba7-8e97-aa1120d6b56a');\n",
              "        const dataTable =\n",
              "          await google.colab.kernel.invokeFunction('convertToInteractive',\n",
              "                                                    [key], {});\n",
              "        if (!dataTable) return;\n",
              "\n",
              "        const docLinkHtml = 'Like what you see? Visit the ' +\n",
              "          '<a target=\"_blank\" href=https://colab.research.google.com/notebooks/data_table.ipynb>data table notebook</a>'\n",
              "          + ' to learn more about interactive tables.';\n",
              "        element.innerHTML = '';\n",
              "        dataTable['output_type'] = 'display_data';\n",
              "        await google.colab.output.renderOutput(dataTable, element);\n",
              "        const docLink = document.createElement('div');\n",
              "        docLink.innerHTML = docLinkHtml;\n",
              "        element.appendChild(docLink);\n",
              "      }\n",
              "    </script>\n",
              "  </div>\n",
              "\n",
              "\n",
              "<div id=\"df-d59c4eab-46f3-4679-a671-73408631aba0\">\n",
              "  <button class=\"colab-df-quickchart\" onclick=\"quickchart('df-d59c4eab-46f3-4679-a671-73408631aba0')\"\n",
              "            title=\"Suggest charts\"\n",
              "            style=\"display:none;\">\n",
              "\n",
              "<svg xmlns=\"http://www.w3.org/2000/svg\" height=\"24px\"viewBox=\"0 0 24 24\"\n",
              "     width=\"24px\">\n",
              "    <g>\n",
              "        <path d=\"M19 3H5c-1.1 0-2 .9-2 2v14c0 1.1.9 2 2 2h14c1.1 0 2-.9 2-2V5c0-1.1-.9-2-2-2zM9 17H7v-7h2v7zm4 0h-2V7h2v10zm4 0h-2v-4h2v4z\"/>\n",
              "    </g>\n",
              "</svg>\n",
              "  </button>\n",
              "\n",
              "<style>\n",
              "  .colab-df-quickchart {\n",
              "      --bg-color: #E8F0FE;\n",
              "      --fill-color: #1967D2;\n",
              "      --hover-bg-color: #E2EBFA;\n",
              "      --hover-fill-color: #174EA6;\n",
              "      --disabled-fill-color: #AAA;\n",
              "      --disabled-bg-color: #DDD;\n",
              "  }\n",
              "\n",
              "  [theme=dark] .colab-df-quickchart {\n",
              "      --bg-color: #3B4455;\n",
              "      --fill-color: #D2E3FC;\n",
              "      --hover-bg-color: #434B5C;\n",
              "      --hover-fill-color: #FFFFFF;\n",
              "      --disabled-bg-color: #3B4455;\n",
              "      --disabled-fill-color: #666;\n",
              "  }\n",
              "\n",
              "  .colab-df-quickchart {\n",
              "    background-color: var(--bg-color);\n",
              "    border: none;\n",
              "    border-radius: 50%;\n",
              "    cursor: pointer;\n",
              "    display: none;\n",
              "    fill: var(--fill-color);\n",
              "    height: 32px;\n",
              "    padding: 0;\n",
              "    width: 32px;\n",
              "  }\n",
              "\n",
              "  .colab-df-quickchart:hover {\n",
              "    background-color: var(--hover-bg-color);\n",
              "    box-shadow: 0 1px 2px rgba(60, 64, 67, 0.3), 0 1px 3px 1px rgba(60, 64, 67, 0.15);\n",
              "    fill: var(--button-hover-fill-color);\n",
              "  }\n",
              "\n",
              "  .colab-df-quickchart-complete:disabled,\n",
              "  .colab-df-quickchart-complete:disabled:hover {\n",
              "    background-color: var(--disabled-bg-color);\n",
              "    fill: var(--disabled-fill-color);\n",
              "    box-shadow: none;\n",
              "  }\n",
              "\n",
              "  .colab-df-spinner {\n",
              "    border: 2px solid var(--fill-color);\n",
              "    border-color: transparent;\n",
              "    border-bottom-color: var(--fill-color);\n",
              "    animation:\n",
              "      spin 1s steps(1) infinite;\n",
              "  }\n",
              "\n",
              "  @keyframes spin {\n",
              "    0% {\n",
              "      border-color: transparent;\n",
              "      border-bottom-color: var(--fill-color);\n",
              "      border-left-color: var(--fill-color);\n",
              "    }\n",
              "    20% {\n",
              "      border-color: transparent;\n",
              "      border-left-color: var(--fill-color);\n",
              "      border-top-color: var(--fill-color);\n",
              "    }\n",
              "    30% {\n",
              "      border-color: transparent;\n",
              "      border-left-color: var(--fill-color);\n",
              "      border-top-color: var(--fill-color);\n",
              "      border-right-color: var(--fill-color);\n",
              "    }\n",
              "    40% {\n",
              "      border-color: transparent;\n",
              "      border-right-color: var(--fill-color);\n",
              "      border-top-color: var(--fill-color);\n",
              "    }\n",
              "    60% {\n",
              "      border-color: transparent;\n",
              "      border-right-color: var(--fill-color);\n",
              "    }\n",
              "    80% {\n",
              "      border-color: transparent;\n",
              "      border-right-color: var(--fill-color);\n",
              "      border-bottom-color: var(--fill-color);\n",
              "    }\n",
              "    90% {\n",
              "      border-color: transparent;\n",
              "      border-bottom-color: var(--fill-color);\n",
              "    }\n",
              "  }\n",
              "</style>\n",
              "\n",
              "  <script>\n",
              "    async function quickchart(key) {\n",
              "      const quickchartButtonEl =\n",
              "        document.querySelector('#' + key + ' button');\n",
              "      quickchartButtonEl.disabled = true;  // To prevent multiple clicks.\n",
              "      quickchartButtonEl.classList.add('colab-df-spinner');\n",
              "      try {\n",
              "        const charts = await google.colab.kernel.invokeFunction(\n",
              "            'suggestCharts', [key], {});\n",
              "      } catch (error) {\n",
              "        console.error('Error during call to suggestCharts:', error);\n",
              "      }\n",
              "      quickchartButtonEl.classList.remove('colab-df-spinner');\n",
              "      quickchartButtonEl.classList.add('colab-df-quickchart-complete');\n",
              "    }\n",
              "    (() => {\n",
              "      let quickchartButtonEl =\n",
              "        document.querySelector('#df-d59c4eab-46f3-4679-a671-73408631aba0 button');\n",
              "      quickchartButtonEl.style.display =\n",
              "        google.colab.kernel.accessAllowed ? 'block' : 'none';\n",
              "    })();\n",
              "  </script>\n",
              "</div>\n",
              "    </div>\n",
              "  </div>\n"
            ]
          },
          "metadata": {},
          "execution_count": 12
        }
      ]
    },
    {
      "cell_type": "code",
      "source": [
        "X_train, X_test = np.split(X,[880000])\n",
        "y_train, y_test = np.split(y,[880000])\n",
        "print(X_train.shape,y_train.shape,X_test.shape,y_test.shape)"
      ],
      "metadata": {
        "id": "kVZRa4I0oY61",
        "colab": {
          "base_uri": "https://localhost:8080/"
        },
        "outputId": "3c93de89-55bd-4594-d29b-d8449e5966a8",
        "execution": {
          "iopub.status.busy": "2023-12-17T15:13:51.615503Z",
          "iopub.execute_input": "2023-12-17T15:13:51.616118Z",
          "iopub.status.idle": "2023-12-17T15:13:51.621789Z",
          "shell.execute_reply.started": "2023-12-17T15:13:51.616089Z",
          "shell.execute_reply": "2023-12-17T15:13:51.620940Z"
        },
        "trusted": true
      },
      "execution_count": 13,
      "outputs": [
        {
          "output_type": "stream",
          "name": "stdout",
          "text": [
            "(297278, 200) (297278, 9) (0, 200) (0, 9)\n"
          ]
        }
      ]
    },
    {
      "cell_type": "code",
      "source": [
        "X_train = np.expand_dims(X_train,axis=2)\n",
        "X_train.shape"
      ],
      "metadata": {
        "colab": {
          "base_uri": "https://localhost:8080/"
        },
        "id": "XG0k3Kj1KcoV",
        "outputId": "ee60d50e-2d15-48af-babb-9898cc69126c",
        "execution": {
          "iopub.status.busy": "2023-12-17T15:14:57.154463Z",
          "iopub.execute_input": "2023-12-17T15:14:57.154760Z",
          "iopub.status.idle": "2023-12-17T15:14:57.161960Z",
          "shell.execute_reply.started": "2023-12-17T15:14:57.154733Z",
          "shell.execute_reply": "2023-12-17T15:14:57.160957Z"
        },
        "trusted": true
      },
      "execution_count": 15,
      "outputs": [
        {
          "output_type": "execute_result",
          "data": {
            "text/plain": [
              "(297278, 200, 1)"
            ]
          },
          "metadata": {},
          "execution_count": 15
        }
      ]
    },
    {
      "cell_type": "code",
      "source": [
        "y_train = np.expand_dims(y_train,axis=2)\n",
        "y_train.shape"
      ],
      "metadata": {
        "colab": {
          "base_uri": "https://localhost:8080/"
        },
        "id": "kybLhTLkzll9",
        "outputId": "b19c4e2e-db9e-46aa-cf5e-38a944a76495",
        "execution": {
          "iopub.status.busy": "2023-12-17T15:14:57.163419Z",
          "iopub.execute_input": "2023-12-17T15:14:57.164419Z",
          "iopub.status.idle": "2023-12-17T15:14:57.176727Z",
          "shell.execute_reply.started": "2023-12-17T15:14:57.164371Z",
          "shell.execute_reply": "2023-12-17T15:14:57.175672Z"
        },
        "trusted": true
      },
      "execution_count": 16,
      "outputs": [
        {
          "output_type": "execute_result",
          "data": {
            "text/plain": [
              "(297278, 9, 1)"
            ]
          },
          "metadata": {},
          "execution_count": 16
        }
      ]
    },
    {
      "cell_type": "code",
      "source": [
        "y_test = np.expand_dims(y_test,axis=2)\n",
        "y_test.shape"
      ],
      "metadata": {
        "colab": {
          "base_uri": "https://localhost:8080/"
        },
        "id": "uM4PCdalGE65",
        "outputId": "2f6cd709-f463-46c8-a628-9eeda9bf227d",
        "execution": {
          "iopub.status.busy": "2023-12-17T15:14:57.177925Z",
          "iopub.execute_input": "2023-12-17T15:14:57.178176Z",
          "iopub.status.idle": "2023-12-17T15:14:57.188249Z",
          "shell.execute_reply.started": "2023-12-17T15:14:57.178154Z",
          "shell.execute_reply": "2023-12-17T15:14:57.187287Z"
        },
        "trusted": true
      },
      "execution_count": 17,
      "outputs": [
        {
          "output_type": "execute_result",
          "data": {
            "text/plain": [
              "(0, 9, 1)"
            ]
          },
          "metadata": {},
          "execution_count": 17
        }
      ]
    },
    {
      "cell_type": "code",
      "source": [
        "X_test = np.expand_dims(X_test,axis=2)\n",
        "X_test.shape"
      ],
      "metadata": {
        "colab": {
          "base_uri": "https://localhost:8080/"
        },
        "id": "ogaOP9plGFDD",
        "outputId": "438203d5-8fbb-411c-af9c-6c7ddeb5e413",
        "execution": {
          "iopub.status.busy": "2023-12-17T15:14:57.189521Z",
          "iopub.execute_input": "2023-12-17T15:14:57.189950Z",
          "iopub.status.idle": "2023-12-17T15:14:57.200098Z",
          "shell.execute_reply.started": "2023-12-17T15:14:57.189922Z",
          "shell.execute_reply": "2023-12-17T15:14:57.199022Z"
        },
        "trusted": true
      },
      "execution_count": 18,
      "outputs": [
        {
          "output_type": "execute_result",
          "data": {
            "text/plain": [
              "(0, 200, 1)"
            ]
          },
          "metadata": {},
          "execution_count": 18
        }
      ]
    },
    {
      "cell_type": "code",
      "source": [
        "input_shape = X_train.shape[1:]\n",
        "output_shape = y_train.shape[1:]\n",
        "batch_size = 64\n",
        "epochs = 200"
      ],
      "metadata": {
        "id": "reGYD8_Gpl3C",
        "execution": {
          "iopub.status.busy": "2023-12-17T15:14:57.201192Z",
          "iopub.execute_input": "2023-12-17T15:14:57.201496Z",
          "iopub.status.idle": "2023-12-17T15:14:57.208856Z",
          "shell.execute_reply.started": "2023-12-17T15:14:57.201462Z",
          "shell.execute_reply": "2023-12-17T15:14:57.208035Z"
        },
        "trusted": true
      },
      "execution_count": 19,
      "outputs": []
    },
    {
      "cell_type": "code",
      "source": [
        "input_shape,output_shape"
      ],
      "metadata": {
        "colab": {
          "base_uri": "https://localhost:8080/"
        },
        "id": "tIqLWTbv2jyZ",
        "outputId": "54535e51-80a9-4671-b3d0-09616743c0cb",
        "execution": {
          "iopub.status.busy": "2023-12-17T15:14:57.209751Z",
          "iopub.execute_input": "2023-12-17T15:14:57.209998Z",
          "iopub.status.idle": "2023-12-17T15:14:57.220684Z",
          "shell.execute_reply.started": "2023-12-17T15:14:57.209976Z",
          "shell.execute_reply": "2023-12-17T15:14:57.219853Z"
        },
        "trusted": true
      },
      "execution_count": 20,
      "outputs": [
        {
          "output_type": "execute_result",
          "data": {
            "text/plain": [
              "((200, 1), (9, 1))"
            ]
          },
          "metadata": {},
          "execution_count": 20
        }
      ]
    },
    {
      "cell_type": "code",
      "source": [
        "def build_LSTM_model(input_shape, output_shape):\n",
        "    # Ensure the input time steps are at least as many as the output time steps\n",
        "    assert input_shape[0] >= output_shape[0], \"For this exercise we want input time steps to be >= of output time steps\"\n",
        "\n",
        "    # Define the input layer with the specified shape\n",
        "    input_layer = tfkl.Input(shape=input_shape, name='input_layer')\n",
        "\n",
        "    # Add a Bidirectional LSTM layer with 32 units, return true very important, I want a sequence\n",
        "    x = tfkl.Bidirectional(tfkl.LSTM(32, return_sequences=True, name='lstm'), name='bidirectional_lstm1')(input_layer)\n",
        "    x = tfkl.Bidirectional(tfkl.LSTM(32, return_sequences=True, name='lstm'), name='bidirectional_lstm2')(x)\n",
        "\n",
        "    # Add a 1D Convolution layer with 128 filters and a kernel size of 3\n",
        "    x = tfkl.Conv1D(128, 3, padding='same', activation='relu', name='conv')(x)\n",
        "\n",
        "    # Add a final Convolution layer to match the desired output shape\n",
        "    output_layer = tfkl.Conv1D(output_shape[1], 3, padding='same', name='output_layer')(x)\n",
        "\n",
        "    # Calculate the size to crop from the output to match the output shape: very important because bilstm gives me same sequence length*2, so it gives me 100. But I want 50, so I need to crop, I want a telescope size\n",
        "    crop_size = output_layer.shape[1] - output_shape[0]\n",
        "\n",
        "    # Crop the output to the desired length: I take only cropped last\n",
        "    output_layer = tfkl.Cropping1D((0, crop_size), name='cropping')(output_layer)\n",
        "\n",
        "    # Construct the model by connecting input and output layers\n",
        "    model = tf.keras.Model(inputs=input_layer, outputs=output_layer, name='CONV_LSTM_model')\n",
        "\n",
        "    # Construct the model by connecting input and output layers\n",
        "    model = tf.keras.Model(inputs=input_layer, outputs=output_layer, name='CONV_LSTM_model')\n",
        "\n",
        "    # Compile the model with Mean Squared Error loss and Adam optimizer\n",
        "    model.compile(loss=tf.keras.losses.MeanSquaredError(), optimizer=tf.keras.optimizers.AdamW())\n",
        "\n",
        "    return model"
      ],
      "metadata": {
        "id": "B8hyRASFqKnY",
        "execution": {
          "iopub.status.busy": "2023-12-17T15:14:57.221885Z",
          "iopub.execute_input": "2023-12-17T15:14:57.222133Z",
          "iopub.status.idle": "2023-12-17T15:14:57.231896Z",
          "shell.execute_reply.started": "2023-12-17T15:14:57.222111Z",
          "shell.execute_reply": "2023-12-17T15:14:57.231004Z"
        },
        "trusted": true
      },
      "execution_count": 21,
      "outputs": []
    },
    {
      "cell_type": "code",
      "source": [
        "model = build_LSTM_model(input_shape, output_shape)\n",
        "model.summary()\n",
        "tfk.utils.plot_model(model, expand_nested=True, show_shapes=True)"
      ],
      "metadata": {
        "id": "S67hWoOjqKqQ",
        "colab": {
          "base_uri": "https://localhost:8080/",
          "height": 1000
        },
        "outputId": "b41567ba-2e72-4c86-82f8-f5f5bed84c86",
        "execution": {
          "iopub.status.busy": "2023-12-17T15:14:57.232913Z",
          "iopub.execute_input": "2023-12-17T15:14:57.233190Z",
          "iopub.status.idle": "2023-12-17T15:14:58.353545Z",
          "shell.execute_reply.started": "2023-12-17T15:14:57.233167Z",
          "shell.execute_reply": "2023-12-17T15:14:58.352620Z"
        },
        "trusted": true
      },
      "execution_count": 22,
      "outputs": [
        {
          "output_type": "stream",
          "name": "stdout",
          "text": [
            "Model: \"CONV_LSTM_model\"\n",
            "_________________________________________________________________\n",
            " Layer (type)                Output Shape              Param #   \n",
            "=================================================================\n",
            " input_layer (InputLayer)    [(None, 200, 1)]          0         \n",
            "                                                                 \n",
            " bidirectional_lstm1 (Bidir  (None, 200, 64)           8704      \n",
            " ectional)                                                       \n",
            "                                                                 \n",
            " bidirectional_lstm2 (Bidir  (None, 200, 64)           24832     \n",
            " ectional)                                                       \n",
            "                                                                 \n",
            " conv (Conv1D)               (None, 200, 128)          24704     \n",
            "                                                                 \n",
            " output_layer (Conv1D)       (None, 200, 1)            385       \n",
            "                                                                 \n",
            " cropping (Cropping1D)       (None, 9, 1)              0         \n",
            "                                                                 \n",
            "=================================================================\n",
            "Total params: 58625 (229.00 KB)\n",
            "Trainable params: 58625 (229.00 KB)\n",
            "Non-trainable params: 0 (0.00 Byte)\n",
            "_________________________________________________________________\n"
          ]
        },
        {
          "output_type": "execute_result",
          "data": {
            "image/png": "[encoded data removed]",
            "text/plain": [
              "<IPython.core.display.Image object>"
            ]
          },
          "metadata": {},
          "execution_count": 22
        }
      ]
    },
    {
      "cell_type": "code",
      "source": [
        "# Train the model\n",
        "history = model.fit(\n",
        "    x = X_train,\n",
        "    y = y_train,\n",
        "    batch_size = batch_size,\n",
        "    epochs = epochs,\n",
        "    validation_split=.1,\n",
        "    callbacks = [\n",
        "        tfk.callbacks.EarlyStopping(monitor='val_loss', mode='min', patience=12, restore_best_weights=True),\n",
        "        tfk.callbacks.ReduceLROnPlateau(monitor='val_loss', mode='min', patience=10, factor=0.1, min_lr=1e-5)\n",
        "    ]\n",
        ").history"
      ],
      "metadata": {
        "id": "usXNfKBgqKtI",
        "colab": {
          "base_uri": "https://localhost:8080/",
          "height": 1000
        },
        "outputId": "e421a3a5-1f5d-46f8-c2b0-ad233c910941",
        "execution": {
          "iopub.status.busy": "2023-12-17T15:14:58.354734Z",
          "iopub.execute_input": "2023-12-17T15:14:58.354986Z",
          "iopub.status.idle": "2023-12-17T17:33:01.232757Z",
          "shell.execute_reply.started": "2023-12-17T15:14:58.354963Z",
          "shell.execute_reply": "2023-12-17T17:33:01.231832Z"
        },
        "trusted": true
      },
      "execution_count": 23,
      "outputs": [
        {
          "output_type": "stream",
          "name": "stdout",
          "text": [
            "Epoch 1/200\n",
            "4181/4181 [==============================] - 146s 32ms/step - loss: 0.0337 - val_loss: 0.0099 - lr: 0.0010\n",
            "Epoch 2/200\n",
            "4181/4181 [==============================] - 132s 32ms/step - loss: 0.0085 - val_loss: 0.0092 - lr: 0.0010\n",
            "Epoch 3/200\n",
            "4181/4181 [==============================] - 130s 31ms/step - loss: 0.0076 - val_loss: 0.0088 - lr: 0.0010\n",
            "Epoch 4/200\n",
            "4181/4181 [==============================] - 129s 31ms/step - loss: 0.0074 - val_loss: 0.0083 - lr: 0.0010\n",
            "Epoch 5/200\n",
            "4181/4181 [==============================] - 128s 31ms/step - loss: 0.0072 - val_loss: 0.0082 - lr: 0.0010\n",
            "Epoch 6/200\n",
            "4181/4181 [==============================] - 128s 31ms/step - loss: 0.0069 - val_loss: 0.0081 - lr: 0.0010\n",
            "Epoch 7/200\n",
            "4181/4181 [==============================] - 127s 30ms/step - loss: 0.0068 - val_loss: 0.0079 - lr: 0.0010\n",
            "Epoch 8/200\n",
            "4181/4181 [==============================] - 127s 30ms/step - loss: 0.0067 - val_loss: 0.0077 - lr: 0.0010\n",
            "Epoch 9/200\n",
            "4181/4181 [==============================] - 131s 31ms/step - loss: 0.0066 - val_loss: 0.0078 - lr: 0.0010\n",
            "Epoch 10/200\n",
            "4181/4181 [==============================] - 132s 32ms/step - loss: 0.0065 - val_loss: 0.0076 - lr: 0.0010\n",
            "Epoch 11/200\n",
            "4181/4181 [==============================] - 131s 31ms/step - loss: 0.0064 - val_loss: 0.0075 - lr: 0.0010\n",
            "Epoch 12/200\n",
            "4181/4181 [==============================] - 130s 31ms/step - loss: 0.0065 - val_loss: 0.0075 - lr: 0.0010\n",
            "Epoch 13/200\n",
            "4181/4181 [==============================] - 132s 32ms/step - loss: 0.0063 - val_loss: 0.0077 - lr: 0.0010\n",
            "Epoch 14/200\n",
            "4181/4181 [==============================] - 135s 32ms/step - loss: 0.0062 - val_loss: 0.0074 - lr: 0.0010\n",
            "Epoch 15/200\n",
            "4181/4181 [==============================] - 133s 32ms/step - loss: 0.0062 - val_loss: 0.0073 - lr: 0.0010\n",
            "Epoch 16/200\n",
            "4181/4181 [==============================] - 132s 32ms/step - loss: 0.0061 - val_loss: 0.0074 - lr: 0.0010\n",
            "Epoch 17/200\n",
            "4181/4181 [==============================] - 133s 32ms/step - loss: 0.0060 - val_loss: 0.0073 - lr: 0.0010\n",
            "Epoch 18/200\n",
            "4181/4181 [==============================] - 133s 32ms/step - loss: 0.0060 - val_loss: 0.0073 - lr: 0.0010\n",
            "Epoch 19/200\n",
            "4181/4181 [==============================] - 134s 32ms/step - loss: 0.0060 - val_loss: 0.0074 - lr: 0.0010\n",
            "Epoch 20/200\n",
            "4181/4181 [==============================] - 132s 31ms/step - loss: 0.0059 - val_loss: 0.0073 - lr: 0.0010\n",
            "Epoch 21/200\n",
            "4181/4181 [==============================] - 132s 32ms/step - loss: 0.0059 - val_loss: 0.0072 - lr: 0.0010\n",
            "Epoch 22/200\n",
            "4181/4181 [==============================] - 133s 32ms/step - loss: 0.0059 - val_loss: 0.0071 - lr: 0.0010\n",
            "Epoch 23/200\n",
            "4181/4181 [==============================] - 132s 32ms/step - loss: 0.0058 - val_loss: 0.0070 - lr: 0.0010\n",
            "Epoch 24/200\n",
            "4181/4181 [==============================] - 135s 32ms/step - loss: 0.0058 - val_loss: 0.0071 - lr: 0.0010\n",
            "Epoch 25/200\n",
            "4181/4181 [==============================] - 132s 32ms/step - loss: 0.0058 - val_loss: 0.0071 - lr: 0.0010\n",
            "Epoch 26/200\n",
            "4181/4181 [==============================] - 133s 32ms/step - loss: 0.0058 - val_loss: 0.0070 - lr: 0.0010\n",
            "Epoch 27/200\n",
            "4181/4181 [==============================] - 131s 31ms/step - loss: 0.0057 - val_loss: 0.0072 - lr: 0.0010\n",
            "Epoch 28/200\n",
            " 868/4181 [=====>........................] - ETA: 1:41 - loss: 0.0058"
          ]
        },
        {
          "output_type": "error",
          "ename": "KeyboardInterrupt",
          "evalue": "ignored",
          "traceback": [
            "\u001b[0;31m---------------------------------------------------------------------------\u001b[0m",
            "\u001b[0;31mKeyboardInterrupt\u001b[0m                         Traceback (most recent call last)",
            "\u001b[0;32m<ipython-input-23-b0abf95fe8d7>\u001b[0m in \u001b[0;36m<cell line: 2>\u001b[0;34m()\u001b[0m\n\u001b[1;32m      1\u001b[0m \u001b[0;31m# Train the model\u001b[0m\u001b[0;34m\u001b[0m\u001b[0;34m\u001b[0m\u001b[0m\n\u001b[0;32m----> 2\u001b[0;31m history = model.fit(\n\u001b[0m\u001b[1;32m      3\u001b[0m     \u001b[0mx\u001b[0m \u001b[0;34m=\u001b[0m \u001b[0mX_train\u001b[0m\u001b[0;34m,\u001b[0m\u001b[0;34m\u001b[0m\u001b[0;34m\u001b[0m\u001b[0m\n\u001b[1;32m      4\u001b[0m     \u001b[0my\u001b[0m \u001b[0;34m=\u001b[0m \u001b[0my_train\u001b[0m\u001b[0;34m,\u001b[0m\u001b[0;34m\u001b[0m\u001b[0;34m\u001b[0m\u001b[0m\n\u001b[1;32m      5\u001b[0m     \u001b[0mbatch_size\u001b[0m \u001b[0;34m=\u001b[0m \u001b[0mbatch_size\u001b[0m\u001b[0;34m,\u001b[0m\u001b[0;34m\u001b[0m\u001b[0;34m\u001b[0m\u001b[0m\n",
            "\u001b[0;32m/usr/local/lib/python3.10/dist-packages/keras/src/utils/traceback_utils.py\u001b[0m in \u001b[0;36merror_handler\u001b[0;34m(*args, **kwargs)\u001b[0m\n\u001b[1;32m     63\u001b[0m         \u001b[0mfiltered_tb\u001b[0m \u001b[0;34m=\u001b[0m \u001b[0;32mNone\u001b[0m\u001b[0;34m\u001b[0m\u001b[0;34m\u001b[0m\u001b[0m\n\u001b[1;32m     64\u001b[0m         \u001b[0;32mtry\u001b[0m\u001b[0;34m:\u001b[0m\u001b[0;34m\u001b[0m\u001b[0;34m\u001b[0m\u001b[0m\n\u001b[0;32m---> 65\u001b[0;31m             \u001b[0;32mreturn\u001b[0m \u001b[0mfn\u001b[0m\u001b[0;34m(\u001b[0m\u001b[0;34m*\u001b[0m\u001b[0margs\u001b[0m\u001b[0;34m,\u001b[0m \u001b[0;34m**\u001b[0m\u001b[0mkwargs\u001b[0m\u001b[0;34m)\u001b[0m\u001b[0;34m\u001b[0m\u001b[0;34m\u001b[0m\u001b[0m\n\u001b[0m\u001b[1;32m     66\u001b[0m         \u001b[0;32mexcept\u001b[0m \u001b[0mException\u001b[0m \u001b[0;32mas\u001b[0m \u001b[0me\u001b[0m\u001b[0;34m:\u001b[0m\u001b[0;34m\u001b[0m\u001b[0;34m\u001b[0m\u001b[0m\n\u001b[1;32m     67\u001b[0m             \u001b[0mfiltered_tb\u001b[0m \u001b[0;34m=\u001b[0m \u001b[0m_process_traceback_frames\u001b[0m\u001b[0;34m(\u001b[0m\u001b[0me\u001b[0m\u001b[0;34m.\u001b[0m\u001b[0m__traceback__\u001b[0m\u001b[0;34m)\u001b[0m\u001b[0;34m\u001b[0m\u001b[0;34m\u001b[0m\u001b[0m\n",
            "\u001b[0;32m/usr/local/lib/python3.10/dist-packages/keras/src/engine/training.py\u001b[0m in \u001b[0;36mfit\u001b[0;34m(self, x, y, batch_size, epochs, verbose, callbacks, validation_split, validation_data, shuffle, class_weight, sample_weight, initial_epoch, steps_per_epoch, validation_steps, validation_batch_size, validation_freq, max_queue_size, workers, use_multiprocessing)\u001b[0m\n\u001b[1;32m   1805\u001b[0m                         ):\n\u001b[1;32m   1806\u001b[0m                             \u001b[0mcallbacks\u001b[0m\u001b[0;34m.\u001b[0m\u001b[0mon_train_batch_begin\u001b[0m\u001b[0;34m(\u001b[0m\u001b[0mstep\u001b[0m\u001b[0;34m)\u001b[0m\u001b[0;34m\u001b[0m\u001b[0;34m\u001b[0m\u001b[0m\n\u001b[0;32m-> 1807\u001b[0;31m                             \u001b[0mtmp_logs\u001b[0m \u001b[0;34m=\u001b[0m \u001b[0mself\u001b[0m\u001b[0;34m.\u001b[0m\u001b[0mtrain_function\u001b[0m\u001b[0;34m(\u001b[0m\u001b[0miterator\u001b[0m\u001b[0;34m)\u001b[0m\u001b[0;34m\u001b[0m\u001b[0;34m\u001b[0m\u001b[0m\n\u001b[0m\u001b[1;32m   1808\u001b[0m                             \u001b[0;32mif\u001b[0m \u001b[0mdata_handler\u001b[0m\u001b[0;34m.\u001b[0m\u001b[0mshould_sync\u001b[0m\u001b[0;34m:\u001b[0m\u001b[0;34m\u001b[0m\u001b[0;34m\u001b[0m\u001b[0m\n\u001b[1;32m   1809\u001b[0m                                 \u001b[0mcontext\u001b[0m\u001b[0;34m.\u001b[0m\u001b[0masync_wait\u001b[0m\u001b[0;34m(\u001b[0m\u001b[0;34m)\u001b[0m\u001b[0;34m\u001b[0m\u001b[0;34m\u001b[0m\u001b[0m\n",
            "\u001b[0;32m/usr/local/lib/python3.10/dist-packages/tensorflow/python/util/traceback_utils.py\u001b[0m in \u001b[0;36merror_handler\u001b[0;34m(*args, **kwargs)\u001b[0m\n\u001b[1;32m    148\u001b[0m     \u001b[0mfiltered_tb\u001b[0m \u001b[0;34m=\u001b[0m \u001b[0;32mNone\u001b[0m\u001b[0;34m\u001b[0m\u001b[0;34m\u001b[0m\u001b[0m\n\u001b[1;32m    149\u001b[0m     \u001b[0;32mtry\u001b[0m\u001b[0;34m:\u001b[0m\u001b[0;34m\u001b[0m\u001b[0;34m\u001b[0m\u001b[0m\n\u001b[0;32m--> 150\u001b[0;31m       \u001b[0;32mreturn\u001b[0m \u001b[0mfn\u001b[0m\u001b[0;34m(\u001b[0m\u001b[0;34m*\u001b[0m\u001b[0margs\u001b[0m\u001b[0;34m,\u001b[0m \u001b[0;34m**\u001b[0m\u001b[0mkwargs\u001b[0m\u001b[0;34m)\u001b[0m\u001b[0;34m\u001b[0m\u001b[0;34m\u001b[0m\u001b[0m\n\u001b[0m\u001b[1;32m    151\u001b[0m     \u001b[0;32mexcept\u001b[0m \u001b[0mException\u001b[0m \u001b[0;32mas\u001b[0m \u001b[0me\u001b[0m\u001b[0;34m:\u001b[0m\u001b[0;34m\u001b[0m\u001b[0;34m\u001b[0m\u001b[0m\n\u001b[1;32m    152\u001b[0m       \u001b[0mfiltered_tb\u001b[0m \u001b[0;34m=\u001b[0m \u001b[0m_process_traceback_frames\u001b[0m\u001b[0;34m(\u001b[0m\u001b[0me\u001b[0m\u001b[0;34m.\u001b[0m\u001b[0m__traceback__\u001b[0m\u001b[0;34m)\u001b[0m\u001b[0;34m\u001b[0m\u001b[0;34m\u001b[0m\u001b[0m\n",
            "\u001b[0;32m/usr/local/lib/python3.10/dist-packages/tensorflow/python/eager/polymorphic_function/polymorphic_function.py\u001b[0m in \u001b[0;36m__call__\u001b[0;34m(self, *args, **kwds)\u001b[0m\n\u001b[1;32m    830\u001b[0m \u001b[0;34m\u001b[0m\u001b[0m\n\u001b[1;32m    831\u001b[0m       \u001b[0;32mwith\u001b[0m \u001b[0mOptionalXlaContext\u001b[0m\u001b[0;34m(\u001b[0m\u001b[0mself\u001b[0m\u001b[0;34m.\u001b[0m\u001b[0m_jit_compile\u001b[0m\u001b[0;34m)\u001b[0m\u001b[0;34m:\u001b[0m\u001b[0;34m\u001b[0m\u001b[0;34m\u001b[0m\u001b[0m\n\u001b[0;32m--> 832\u001b[0;31m         \u001b[0mresult\u001b[0m \u001b[0;34m=\u001b[0m \u001b[0mself\u001b[0m\u001b[0;34m.\u001b[0m\u001b[0m_call\u001b[0m\u001b[0;34m(\u001b[0m\u001b[0;34m*\u001b[0m\u001b[0margs\u001b[0m\u001b[0;34m,\u001b[0m \u001b[0;34m**\u001b[0m\u001b[0mkwds\u001b[0m\u001b[0;34m)\u001b[0m\u001b[0;34m\u001b[0m\u001b[0;34m\u001b[0m\u001b[0m\n\u001b[0m\u001b[1;32m    833\u001b[0m \u001b[0;34m\u001b[0m\u001b[0m\n\u001b[1;32m    834\u001b[0m       \u001b[0mnew_tracing_count\u001b[0m \u001b[0;34m=\u001b[0m \u001b[0mself\u001b[0m\u001b[0;34m.\u001b[0m\u001b[0mexperimental_get_tracing_count\u001b[0m\u001b[0;34m(\u001b[0m\u001b[0;34m)\u001b[0m\u001b[0;34m\u001b[0m\u001b[0;34m\u001b[0m\u001b[0m\n",
            "\u001b[0;32m/usr/local/lib/python3.10/dist-packages/tensorflow/python/eager/polymorphic_function/polymorphic_function.py\u001b[0m in \u001b[0;36m_call\u001b[0;34m(self, *args, **kwds)\u001b[0m\n\u001b[1;32m    866\u001b[0m       \u001b[0;31m# In this case we have created variables on the first call, so we run the\u001b[0m\u001b[0;34m\u001b[0m\u001b[0;34m\u001b[0m\u001b[0m\n\u001b[1;32m    867\u001b[0m       \u001b[0;31m# defunned version which is guaranteed to never create variables.\u001b[0m\u001b[0;34m\u001b[0m\u001b[0;34m\u001b[0m\u001b[0m\n\u001b[0;32m--> 868\u001b[0;31m       return tracing_compilation.call_function(\n\u001b[0m\u001b[1;32m    869\u001b[0m           \u001b[0margs\u001b[0m\u001b[0;34m,\u001b[0m \u001b[0mkwds\u001b[0m\u001b[0;34m,\u001b[0m \u001b[0mself\u001b[0m\u001b[0;34m.\u001b[0m\u001b[0m_no_variable_creation_config\u001b[0m\u001b[0;34m\u001b[0m\u001b[0;34m\u001b[0m\u001b[0m\n\u001b[1;32m    870\u001b[0m       )\n",
            "\u001b[0;32m/usr/local/lib/python3.10/dist-packages/tensorflow/python/eager/polymorphic_function/tracing_compilation.py\u001b[0m in \u001b[0;36mcall_function\u001b[0;34m(args, kwargs, tracing_options)\u001b[0m\n\u001b[1;32m    137\u001b[0m   \u001b[0mbound_args\u001b[0m \u001b[0;34m=\u001b[0m \u001b[0mfunction\u001b[0m\u001b[0;34m.\u001b[0m\u001b[0mfunction_type\u001b[0m\u001b[0;34m.\u001b[0m\u001b[0mbind\u001b[0m\u001b[0;34m(\u001b[0m\u001b[0;34m*\u001b[0m\u001b[0margs\u001b[0m\u001b[0;34m,\u001b[0m \u001b[0;34m**\u001b[0m\u001b[0mkwargs\u001b[0m\u001b[0;34m)\u001b[0m\u001b[0;34m\u001b[0m\u001b[0;34m\u001b[0m\u001b[0m\n\u001b[1;32m    138\u001b[0m   \u001b[0mflat_inputs\u001b[0m \u001b[0;34m=\u001b[0m \u001b[0mfunction\u001b[0m\u001b[0;34m.\u001b[0m\u001b[0mfunction_type\u001b[0m\u001b[0;34m.\u001b[0m\u001b[0munpack_inputs\u001b[0m\u001b[0;34m(\u001b[0m\u001b[0mbound_args\u001b[0m\u001b[0;34m)\u001b[0m\u001b[0;34m\u001b[0m\u001b[0;34m\u001b[0m\u001b[0m\n\u001b[0;32m--> 139\u001b[0;31m   return function._call_flat(  # pylint: disable=protected-access\n\u001b[0m\u001b[1;32m    140\u001b[0m       \u001b[0mflat_inputs\u001b[0m\u001b[0;34m,\u001b[0m \u001b[0mcaptured_inputs\u001b[0m\u001b[0;34m=\u001b[0m\u001b[0mfunction\u001b[0m\u001b[0;34m.\u001b[0m\u001b[0mcaptured_inputs\u001b[0m\u001b[0;34m\u001b[0m\u001b[0;34m\u001b[0m\u001b[0m\n\u001b[1;32m    141\u001b[0m   )\n",
            "\u001b[0;32m/usr/local/lib/python3.10/dist-packages/tensorflow/python/eager/polymorphic_function/concrete_function.py\u001b[0m in \u001b[0;36m_call_flat\u001b[0;34m(self, tensor_inputs, captured_inputs)\u001b[0m\n\u001b[1;32m   1321\u001b[0m         and executing_eagerly):\n\u001b[1;32m   1322\u001b[0m       \u001b[0;31m# No tape is watching; skip to running the function.\u001b[0m\u001b[0;34m\u001b[0m\u001b[0;34m\u001b[0m\u001b[0m\n\u001b[0;32m-> 1323\u001b[0;31m       \u001b[0;32mreturn\u001b[0m \u001b[0mself\u001b[0m\u001b[0;34m.\u001b[0m\u001b[0m_inference_function\u001b[0m\u001b[0;34m.\u001b[0m\u001b[0mcall_preflattened\u001b[0m\u001b[0;34m(\u001b[0m\u001b[0margs\u001b[0m\u001b[0;34m)\u001b[0m\u001b[0;34m\u001b[0m\u001b[0;34m\u001b[0m\u001b[0m\n\u001b[0m\u001b[1;32m   1324\u001b[0m     forward_backward = self._select_forward_and_backward_functions(\n\u001b[1;32m   1325\u001b[0m         \u001b[0margs\u001b[0m\u001b[0;34m,\u001b[0m\u001b[0;34m\u001b[0m\u001b[0;34m\u001b[0m\u001b[0m\n",
            "\u001b[0;32m/usr/local/lib/python3.10/dist-packages/tensorflow/python/eager/polymorphic_function/atomic_function.py\u001b[0m in \u001b[0;36mcall_preflattened\u001b[0;34m(self, args)\u001b[0m\n\u001b[1;32m    214\u001b[0m   \u001b[0;32mdef\u001b[0m \u001b[0mcall_preflattened\u001b[0m\u001b[0;34m(\u001b[0m\u001b[0mself\u001b[0m\u001b[0;34m,\u001b[0m \u001b[0margs\u001b[0m\u001b[0;34m:\u001b[0m \u001b[0mSequence\u001b[0m\u001b[0;34m[\u001b[0m\u001b[0mcore\u001b[0m\u001b[0;34m.\u001b[0m\u001b[0mTensor\u001b[0m\u001b[0;34m]\u001b[0m\u001b[0;34m)\u001b[0m \u001b[0;34m->\u001b[0m \u001b[0mAny\u001b[0m\u001b[0;34m:\u001b[0m\u001b[0;34m\u001b[0m\u001b[0;34m\u001b[0m\u001b[0m\n\u001b[1;32m    215\u001b[0m     \u001b[0;34m\"\"\"Calls with flattened tensor inputs and returns the structured output.\"\"\"\u001b[0m\u001b[0;34m\u001b[0m\u001b[0;34m\u001b[0m\u001b[0m\n\u001b[0;32m--> 216\u001b[0;31m     \u001b[0mflat_outputs\u001b[0m \u001b[0;34m=\u001b[0m \u001b[0mself\u001b[0m\u001b[0;34m.\u001b[0m\u001b[0mcall_flat\u001b[0m\u001b[0;34m(\u001b[0m\u001b[0;34m*\u001b[0m\u001b[0margs\u001b[0m\u001b[0;34m)\u001b[0m\u001b[0;34m\u001b[0m\u001b[0;34m\u001b[0m\u001b[0m\n\u001b[0m\u001b[1;32m    217\u001b[0m     \u001b[0;32mreturn\u001b[0m \u001b[0mself\u001b[0m\u001b[0;34m.\u001b[0m\u001b[0mfunction_type\u001b[0m\u001b[0;34m.\u001b[0m\u001b[0mpack_output\u001b[0m\u001b[0;34m(\u001b[0m\u001b[0mflat_outputs\u001b[0m\u001b[0;34m)\u001b[0m\u001b[0;34m\u001b[0m\u001b[0;34m\u001b[0m\u001b[0m\n\u001b[1;32m    218\u001b[0m \u001b[0;34m\u001b[0m\u001b[0m\n",
            "\u001b[0;32m/usr/local/lib/python3.10/dist-packages/tensorflow/python/eager/polymorphic_function/atomic_function.py\u001b[0m in \u001b[0;36mcall_flat\u001b[0;34m(self, *args)\u001b[0m\n\u001b[1;32m    249\u001b[0m         \u001b[0;32mwith\u001b[0m \u001b[0mrecord\u001b[0m\u001b[0;34m.\u001b[0m\u001b[0mstop_recording\u001b[0m\u001b[0;34m(\u001b[0m\u001b[0;34m)\u001b[0m\u001b[0;34m:\u001b[0m\u001b[0;34m\u001b[0m\u001b[0;34m\u001b[0m\u001b[0m\n\u001b[1;32m    250\u001b[0m           \u001b[0;32mif\u001b[0m \u001b[0mself\u001b[0m\u001b[0;34m.\u001b[0m\u001b[0m_bound_context\u001b[0m\u001b[0;34m.\u001b[0m\u001b[0mexecuting_eagerly\u001b[0m\u001b[0;34m(\u001b[0m\u001b[0;34m)\u001b[0m\u001b[0;34m:\u001b[0m\u001b[0;34m\u001b[0m\u001b[0;34m\u001b[0m\u001b[0m\n\u001b[0;32m--> 251\u001b[0;31m             outputs = self._bound_context.call_function(\n\u001b[0m\u001b[1;32m    252\u001b[0m                 \u001b[0mself\u001b[0m\u001b[0;34m.\u001b[0m\u001b[0mname\u001b[0m\u001b[0;34m,\u001b[0m\u001b[0;34m\u001b[0m\u001b[0;34m\u001b[0m\u001b[0m\n\u001b[1;32m    253\u001b[0m                 \u001b[0mlist\u001b[0m\u001b[0;34m(\u001b[0m\u001b[0margs\u001b[0m\u001b[0;34m)\u001b[0m\u001b[0;34m,\u001b[0m\u001b[0;34m\u001b[0m\u001b[0;34m\u001b[0m\u001b[0m\n",
            "\u001b[0;32m/usr/local/lib/python3.10/dist-packages/tensorflow/python/eager/context.py\u001b[0m in \u001b[0;36mcall_function\u001b[0;34m(self, name, tensor_inputs, num_outputs)\u001b[0m\n\u001b[1;32m   1484\u001b[0m     \u001b[0mcancellation_context\u001b[0m \u001b[0;34m=\u001b[0m \u001b[0mcancellation\u001b[0m\u001b[0;34m.\u001b[0m\u001b[0mcontext\u001b[0m\u001b[0;34m(\u001b[0m\u001b[0;34m)\u001b[0m\u001b[0;34m\u001b[0m\u001b[0;34m\u001b[0m\u001b[0m\n\u001b[1;32m   1485\u001b[0m     \u001b[0;32mif\u001b[0m \u001b[0mcancellation_context\u001b[0m \u001b[0;32mis\u001b[0m \u001b[0;32mNone\u001b[0m\u001b[0;34m:\u001b[0m\u001b[0;34m\u001b[0m\u001b[0;34m\u001b[0m\u001b[0m\n\u001b[0;32m-> 1486\u001b[0;31m       outputs = execute.execute(\n\u001b[0m\u001b[1;32m   1487\u001b[0m           \u001b[0mname\u001b[0m\u001b[0;34m.\u001b[0m\u001b[0mdecode\u001b[0m\u001b[0;34m(\u001b[0m\u001b[0;34m\"utf-8\"\u001b[0m\u001b[0;34m)\u001b[0m\u001b[0;34m,\u001b[0m\u001b[0;34m\u001b[0m\u001b[0;34m\u001b[0m\u001b[0m\n\u001b[1;32m   1488\u001b[0m           \u001b[0mnum_outputs\u001b[0m\u001b[0;34m=\u001b[0m\u001b[0mnum_outputs\u001b[0m\u001b[0;34m,\u001b[0m\u001b[0;34m\u001b[0m\u001b[0;34m\u001b[0m\u001b[0m\n",
            "\u001b[0;32m/usr/local/lib/python3.10/dist-packages/tensorflow/python/eager/execute.py\u001b[0m in \u001b[0;36mquick_execute\u001b[0;34m(op_name, num_outputs, inputs, attrs, ctx, name)\u001b[0m\n\u001b[1;32m     51\u001b[0m   \u001b[0;32mtry\u001b[0m\u001b[0;34m:\u001b[0m\u001b[0;34m\u001b[0m\u001b[0;34m\u001b[0m\u001b[0m\n\u001b[1;32m     52\u001b[0m     \u001b[0mctx\u001b[0m\u001b[0;34m.\u001b[0m\u001b[0mensure_initialized\u001b[0m\u001b[0;34m(\u001b[0m\u001b[0;34m)\u001b[0m\u001b[0;34m\u001b[0m\u001b[0;34m\u001b[0m\u001b[0m\n\u001b[0;32m---> 53\u001b[0;31m     tensors = pywrap_tfe.TFE_Py_Execute(ctx._handle, device_name, op_name,\n\u001b[0m\u001b[1;32m     54\u001b[0m                                         inputs, attrs, num_outputs)\n\u001b[1;32m     55\u001b[0m   \u001b[0;32mexcept\u001b[0m \u001b[0mcore\u001b[0m\u001b[0;34m.\u001b[0m\u001b[0m_NotOkStatusException\u001b[0m \u001b[0;32mas\u001b[0m \u001b[0me\u001b[0m\u001b[0;34m:\u001b[0m\u001b[0;34m\u001b[0m\u001b[0;34m\u001b[0m\u001b[0m\n",
            "\u001b[0;31mKeyboardInterrupt\u001b[0m: "
          ]
        }
      ]
    },
    {
      "cell_type": "code",
      "source": [
        "best_epoch = np.argmin(history['val_loss'])\n",
        "plt.figure(figsize=(17,4))\n",
        "plt.plot(history['loss'], label='Training loss', alpha=.8, color='#ff7f0e')\n",
        "plt.plot(history['val_loss'], label='Validation loss', alpha=.9, color='#5a9aa5')\n",
        "plt.axvline(x=best_epoch, label='Best epoch', alpha=.3, ls='--', color='#5a9aa5')\n",
        "plt.title('Mean Squared Error')\n",
        "plt.legend()\n",
        "plt.grid(alpha=.3)\n",
        "plt.show()\n",
        "\n",
        "plt.figure(figsize=(18,3))\n",
        "plt.plot(history['lr'], label='Learning Rate', alpha=.8, color='#ff7f0e')\n",
        "plt.axvline(x=best_epoch, label='Best epoch', alpha=.3, ls='--', color='#5a9aa5')\n",
        "plt.legend()\n",
        "plt.grid(alpha=.3)\n",
        "plt.show()"
      ],
      "metadata": {
        "id": "Fq_5LJc-qKwG",
        "execution": {
          "iopub.status.busy": "2023-12-17T17:33:01.233888Z",
          "iopub.execute_input": "2023-12-17T17:33:01.234144Z",
          "iopub.status.idle": "2023-12-17T17:33:01.829054Z",
          "shell.execute_reply.started": "2023-12-17T17:33:01.234121Z",
          "shell.execute_reply": "2023-12-17T17:33:01.828065Z"
        },
        "trusted": true
      },
      "execution_count": null,
      "outputs": []
    },
    {
      "cell_type": "code",
      "source": [
        "model.save('SimpleConvLSTM_3')\n",
        "del model"
      ],
      "metadata": {
        "id": "5Ru-e_mYqKy6",
        "execution": {
          "iopub.status.busy": "2023-12-17T17:33:01.830335Z",
          "iopub.execute_input": "2023-12-17T17:33:01.830704Z",
          "iopub.status.idle": "2023-12-17T17:33:21.015294Z",
          "shell.execute_reply.started": "2023-12-17T17:33:01.830669Z",
          "shell.execute_reply": "2023-12-17T17:33:21.014520Z"
        },
        "trusted": true
      },
      "execution_count": null,
      "outputs": []
    },
    {
      "cell_type": "code",
      "source": [
        "model = tfk.models.load_model('SimpleConvLSTM_3')"
      ],
      "metadata": {
        "id": "Lt5QpZKNIN2d",
        "execution": {
          "iopub.status.busy": "2023-12-17T17:33:21.020464Z",
          "iopub.execute_input": "2023-12-17T17:33:21.020826Z",
          "iopub.status.idle": "2023-12-17T17:33:28.534614Z",
          "shell.execute_reply.started": "2023-12-17T17:33:21.020800Z",
          "shell.execute_reply": "2023-12-17T17:33:28.533638Z"
        },
        "trusted": true
      },
      "execution_count": null,
      "outputs": []
    },
    {
      "cell_type": "code",
      "source": [
        "# Predict the test set using the model\n",
        "predictions = model.predict(X_test, verbose=0)\n",
        "\n",
        "# Print the shape of the predictions\n",
        "print(f\"Predictions shape: {predictions.shape}\")\n",
        "\n",
        "# Calculate and print Mean Squared Error (MSE)\n",
        "mean_squared_error = tfk.metrics.mean_squared_error(y_test.flatten(), predictions.flatten()).numpy()\n",
        "print(f\"Mean Squared Error: {mean_squared_error}\")\n",
        "\n",
        "# Calculate and print Mean Absolute Error (MAE)\n",
        "mean_absolute_error = tfk.metrics.mean_absolute_error(y_test.flatten(), predictions.flatten()).numpy()\n",
        "print(f\"Mean Absolute Error: {mean_absolute_error}\")"
      ],
      "metadata": {
        "id": "SyI0on1LqK1v",
        "execution": {
          "iopub.status.busy": "2023-12-17T17:33:28.578273Z",
          "iopub.execute_input": "2023-12-17T17:33:28.578642Z",
          "iopub.status.idle": "2023-12-17T17:33:28.710979Z",
          "shell.execute_reply.started": "2023-12-17T17:33:28.578612Z",
          "shell.execute_reply": "2023-12-17T17:33:28.709810Z"
        },
        "trusted": true
      },
      "execution_count": null,
      "outputs": []
    }
  ]
}