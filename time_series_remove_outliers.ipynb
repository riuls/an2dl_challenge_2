{
  "metadata": {
    "colab": {
      "provenance": [],
      "gpuType": "T4",
      "include_colab_link": true
    },
    "kernelspec": {
      "name": "python3",
      "display_name": "Python 3"
    },
    "language_info": {
      "name": "python",
      "version": "3.10.12",
      "mimetype": "text/x-python",
      "codemirror_mode": {
        "name": "ipython",
        "version": 3
      },
      "pygments_lexer": "ipython3",
      "nbconvert_exporter": "python",
      "file_extension": ".py"
    },
    "accelerator": "GPU",
    "kaggle": {
      "accelerator": "nvidiaTeslaT4",
      "dataSources": [
        {
          "sourceId": 7218526,
          "sourceType": "datasetVersion",
          "datasetId": 4177830
        }
      ],
      "dockerImageVersionId": 30627,
      "isInternetEnabled": true,
      "language": "python",
      "sourceType": "notebook",
      "isGpuEnabled": true
    }
  },
  "nbformat_minor": 0,
  "nbformat": 4,
  "cells": [
    {
      "cell_type": "markdown",
      "metadata": {
        "id": "view-in-github",
        "colab_type": "text"
      },
      "source": [
        "<a href=\"https://colab.research.google.com/github/riuls/an2dl_challenge_2/blob/luis/time_series_remove_outliers.ipynb\" target=\"_parent\"><img src=\"https://colab.research.google.com/assets/colab-badge.svg\" alt=\"Open In Colab\"/></a>"
      ]
    },
    {
      "cell_type": "code",
      "source": [
        "from google.colab import drive\n",
        "drive.mount('/content/drive')\n",
        "%cd /content/drive/MyDrive/an2dl_challenge_2"
      ],
      "metadata": {
        "colab": {
          "base_uri": "https://localhost:8080/"
        },
        "id": "X7NR2Oe9oLRD",
        "outputId": "74075e0d-e3a8-41f5-ae0c-91dec39523ea",
        "execution": {
          "iopub.status.busy": "2023-12-17T15:13:49.287415Z",
          "iopub.execute_input": "2023-12-17T15:13:49.288481Z",
          "iopub.status.idle": "2023-12-17T15:13:49.293058Z",
          "shell.execute_reply.started": "2023-12-17T15:13:49.288435Z",
          "shell.execute_reply": "2023-12-17T15:13:49.291939Z"
        },
        "trusted": true
      },
      "execution_count": null,
      "outputs": [
        {
          "output_type": "stream",
          "name": "stdout",
          "text": [
            "Mounted at /content/drive\n",
            "/content/drive/MyDrive/an2dl_challenge_2\n"
          ]
        }
      ]
    },
    {
      "cell_type": "code",
      "source": [
        "#import os\n",
        "#os.listdir('/kaggle/input/')\n",
        "#%cd /kaggle/working/"
      ],
      "metadata": {
        "execution": {
          "iopub.status.busy": "2023-12-17T15:13:49.295187Z",
          "iopub.execute_input": "2023-12-17T15:13:49.295550Z",
          "iopub.status.idle": "2023-12-17T15:13:49.304879Z",
          "shell.execute_reply.started": "2023-12-17T15:13:49.295515Z",
          "shell.execute_reply": "2023-12-17T15:13:49.303893Z"
        },
        "trusted": true,
        "id": "FVnAFNA--6Rk"
      },
      "execution_count": null,
      "outputs": []
    },
    {
      "cell_type": "code",
      "source": [
        "# Fix randomness and hide warnings\n",
        "seed = 42\n",
        "\n",
        "import os\n",
        "os.environ['TF_CPP_MIN_LOG_LEVEL'] = '3'\n",
        "os.environ['PYTHONHASHSEED'] = str(seed)\n",
        "os.environ['MPLCONFIGDIR'] = os.getcwd()+'/configs/'\n",
        "\n",
        "import warnings\n",
        "warnings.simplefilter(action='ignore', category=FutureWarning)\n",
        "warnings.simplefilter(action='ignore', category=Warning)\n",
        "\n",
        "import numpy as np\n",
        "np.random.seed(seed)\n",
        "\n",
        "import logging\n",
        "\n",
        "import random\n",
        "random.seed(seed)"
      ],
      "metadata": {
        "id": "cdQqdMhFoYno",
        "execution": {
          "iopub.status.busy": "2023-12-17T15:13:49.306203Z",
          "iopub.execute_input": "2023-12-17T15:13:49.306539Z",
          "iopub.status.idle": "2023-12-17T15:13:49.313717Z",
          "shell.execute_reply.started": "2023-12-17T15:13:49.306508Z",
          "shell.execute_reply": "2023-12-17T15:13:49.312651Z"
        },
        "trusted": true
      },
      "execution_count": null,
      "outputs": []
    },
    {
      "cell_type": "code",
      "source": [
        "# Import tensorflow\n",
        "import tensorflow as tf\n",
        "from tensorflow import keras as tfk\n",
        "from tensorflow.keras import layers as tfkl\n",
        "tf.autograph.set_verbosity(0)\n",
        "tf.get_logger().setLevel(logging.ERROR)\n",
        "tf.compat.v1.logging.set_verbosity(tf.compat.v1.logging.ERROR)\n",
        "tf.random.set_seed(seed)\n",
        "tf.compat.v1.set_random_seed(seed)\n",
        "print(tf.__version__)"
      ],
      "metadata": {
        "colab": {
          "base_uri": "https://localhost:8080/"
        },
        "id": "mIE0enxNoYqP",
        "outputId": "a8b6599d-29cc-4b9a-c3f0-916c44c9b9db",
        "execution": {
          "iopub.status.busy": "2023-12-17T15:13:49.315387Z",
          "iopub.execute_input": "2023-12-17T15:13:49.315971Z",
          "iopub.status.idle": "2023-12-17T15:13:49.332620Z",
          "shell.execute_reply.started": "2023-12-17T15:13:49.315937Z",
          "shell.execute_reply": "2023-12-17T15:13:49.331799Z"
        },
        "trusted": true
      },
      "execution_count": null,
      "outputs": [
        {
          "output_type": "stream",
          "name": "stdout",
          "text": [
            "2.15.0\n"
          ]
        }
      ]
    },
    {
      "cell_type": "code",
      "source": [
        "import pandas as pd\n",
        "import seaborn as sns\n",
        "from datetime import datetime\n",
        "import matplotlib.pyplot as plt\n",
        "plt.rc('font', size=16)\n",
        "from sklearn.preprocessing import MinMaxScaler"
      ],
      "metadata": {
        "id": "2zhN83IhoYtB",
        "execution": {
          "iopub.status.busy": "2023-12-17T15:13:49.334820Z",
          "iopub.execute_input": "2023-12-17T15:13:49.335112Z",
          "iopub.status.idle": "2023-12-17T15:13:49.342079Z",
          "shell.execute_reply.started": "2023-12-17T15:13:49.335088Z",
          "shell.execute_reply": "2023-12-17T15:13:49.341189Z"
        },
        "trusted": true
      },
      "execution_count": null,
      "outputs": []
    },
    {
      "cell_type": "code",
      "source": [
        "dataset = np.load('training_data.npy')\n",
        "periods = np.load('valid_periods.npy')\n",
        "cat = np.load('categories.npy')\n",
        "print(dataset.shape)\n",
        "print(periods.shape)\n",
        "print(cat.shape)"
      ],
      "metadata": {
        "colab": {
          "base_uri": "https://localhost:8080/"
        },
        "id": "dRAoKWIHoYvu",
        "outputId": "1cd4d07d-c10b-403a-abb3-c03db932c0f1",
        "execution": {
          "iopub.status.busy": "2023-12-17T15:13:49.343042Z",
          "iopub.execute_input": "2023-12-17T15:13:49.343274Z",
          "iopub.status.idle": "2023-12-17T15:13:49.735315Z",
          "shell.execute_reply.started": "2023-12-17T15:13:49.343253Z",
          "shell.execute_reply": "2023-12-17T15:13:49.734434Z"
        },
        "trusted": true
      },
      "execution_count": null,
      "outputs": [
        {
          "output_type": "stream",
          "name": "stdout",
          "text": [
            "(48000, 2776)\n",
            "(48000, 2)\n",
            "(48000,)\n"
          ]
        }
      ]
    },
    {
      "cell_type": "code",
      "source": [
        "# Building X and y sets: X is made of sequences of length window, and y is the next sequence of length telescope.\n",
        "# No distinction between different categories here\n",
        "X = []\n",
        "y = []\n",
        "# combinations of (window,telescope,stride) I used: (45,9,8), (40,10,15)\n",
        "# also a third one with window 48 and telescope 1, per predire faccio 9 predictions, poi append e delete ma non ha funzionato molto meglio, sembra meglio direct forecasting\n",
        "window = 200    # it was 40\n",
        "telescope = 9    # it was 10\n",
        "stride = 8    # it was 15\n",
        "for i in range(dataset.shape[0]):\n",
        "  j = periods[i,0]\n",
        "  while(j+window+telescope < periods[i,1]):    # sfrutto periods per vedere di stare nei limiti\n",
        "    X.append(dataset[i,j:j+window])\n",
        "    y.append(dataset[i,j+window:j+window+telescope])\n",
        "    j = j+stride"
      ],
      "metadata": {
        "id": "rGMQcgB_BkLZ",
        "execution": {
          "iopub.status.busy": "2023-12-17T15:13:49.736533Z",
          "iopub.execute_input": "2023-12-17T15:13:49.736802Z",
          "iopub.status.idle": "2023-12-17T15:13:50.656628Z",
          "shell.execute_reply.started": "2023-12-17T15:13:49.736779Z",
          "shell.execute_reply": "2023-12-17T15:13:50.655637Z"
        },
        "trusted": true
      },
      "execution_count": null,
      "outputs": []
    },
    {
      "cell_type": "code",
      "source": [
        "X = np.array(X)\n",
        "y = np.array(y)\n",
        "X.shape, y.shape"
      ],
      "metadata": {
        "colab": {
          "base_uri": "https://localhost:8080/"
        },
        "id": "enKRpiZBD7xM",
        "outputId": "f9b681d5-28bd-4a3a-bb06-4eb09a4a3ed2",
        "execution": {
          "iopub.status.busy": "2023-12-17T15:13:50.657849Z",
          "iopub.execute_input": "2023-12-17T15:13:50.658112Z",
          "iopub.status.idle": "2023-12-17T15:13:51.134519Z",
          "shell.execute_reply.started": "2023-12-17T15:13:50.658089Z",
          "shell.execute_reply": "2023-12-17T15:13:51.133619Z"
        },
        "trusted": true
      },
      "execution_count": null,
      "outputs": [
        {
          "output_type": "execute_result",
          "data": {
            "text/plain": [
              "((297278, 200), (297278, 9))"
            ]
          },
          "metadata": {},
          "execution_count": 8
        }
      ]
    },
    {
      "cell_type": "code",
      "source": [
        "import matplotlib.pyplot as plt\n",
        "from scipy import stats\n",
        "\n",
        "# Assuming 'dataset' is a Pandas DataFrame\n",
        "z_scores = np.abs(stats.zscore(X))\n",
        "plt.boxplot(z_scores)\n",
        "plt.show()"
      ],
      "metadata": {
        "colab": {
          "base_uri": "https://localhost:8080/",
          "height": 436
        },
        "id": "PYGiTBHsJS13",
        "outputId": "f250575b-b9f4-4a07-e912-7c9d27a7dd45"
      },
      "execution_count": null,
      "outputs": [
        {
          "output_type": "display_data",
          "data": {
            "text/plain": [
              "<Figure size 640x480 with 1 Axes>"
            ],
            "image/png": "[encoded data removed]"
          },
          "metadata": {}
        }
      ]
    },
    {
      "cell_type": "code",
      "source": [
        "from scipy import stats\n",
        "\n",
        "def remove_outliers_zscore(X, threshold=50):\n",
        "    z_scores = np.abs(stats.zscore(X))\n",
        "    X_no_outliers = X[(z_scores < threshold).all(axis=1)]  # Change axis to 1\n",
        "    return X_no_outliers\n",
        "\n",
        "# Assuming 'X' is a NumPy array with shape (297278, 48000)\n",
        "cleaned_X = remove_outliers_zscore(X.copy())  # Create a copy to avoid modifying the original\n",
        "print(cleaned_X)\n",
        "X = cleaned_X\n"
      ],
      "metadata": {
        "colab": {
          "base_uri": "https://localhost:8080/"
        },
        "id": "ytMCw7qHJWFF",
        "outputId": "daa4b4cf-1093-48bb-c7cf-8904b0caaebf"
      },
      "execution_count": null,
      "outputs": [
        {
          "output_type": "stream",
          "name": "stdout",
          "text": [
            "[[0.49166667 0.52407407 0.54444444 ... 0.40833333 0.31574074 0.40277778]\n",
            " [0.38333333 0.27962963 0.23796296 ... 0.4537037  0.42777778 0.30185185]\n",
            " [0.37592593 0.38611111 0.32685185 ... 0.39351852 0.275      0.28518519]\n",
            " ...\n",
            " [0.06279217 0.06314483 0.06309976 ... 0.22911281 0.2224043  0.22188724]\n",
            " [0.06607483 0.06487897 0.06546232 ... 0.27046957 0.26280649 0.21785418]\n",
            " [0.06405963 0.06365128 0.06419221 ... 0.18681208 0.17770919 0.17889975]]\n"
          ]
        }
      ]
    },
    {
      "cell_type": "code",
      "source": [
        "df = pd.DataFrame(dataset).T    # solo per visualizzare\n",
        "def inspect_dataframe(df, rows):\n",
        "    figs, axs = plt.subplots(len(rows), 1, sharex=True, figsize=(17,8))\n",
        "    for i, col in enumerate(rows):\n",
        "        axs[i].plot(df[col])\n",
        "        axs[i].set_title(cat[col])\n",
        "    plt.show()\n",
        "inspect_dataframe(df, [2000,2004])"
      ],
      "metadata": {
        "id": "s3qdU9lxoY4D",
        "execution": {
          "iopub.status.busy": "2023-12-17T15:13:51.135839Z",
          "iopub.execute_input": "2023-12-17T15:13:51.136226Z",
          "iopub.status.idle": "2023-12-17T15:13:51.611646Z",
          "shell.execute_reply.started": "2023-12-17T15:13:51.136175Z",
          "shell.execute_reply": "2023-12-17T15:13:51.610776Z"
        },
        "trusted": true,
        "colab": {
          "base_uri": "https://localhost:8080/",
          "height": 711
        },
        "outputId": "ad732780-bfc2-44d7-c716-7e443779a528"
      },
      "execution_count": null,
      "outputs": [
        {
          "output_type": "display_data",
          "data": {
            "text/plain": [
              "<Figure size 1700x800 with 2 Axes>"
            ],
            "image/png": "[encoded data removed]"
          },
          "metadata": {}
        }
      ]
    },
    {
      "cell_type": "code",
      "source": [
        "df.describe()"
      ],
      "metadata": {
        "colab": {
          "base_uri": "https://localhost:8080/",
          "height": 350
        },
        "id": "ZNyLeAluD8ml",
        "outputId": "8f15bc6b-1939-4449-d376-272f75dc6a68"
      },
      "execution_count": null,
      "outputs": [
        {
          "output_type": "execute_result",
          "data": {
            "text/plain": [
              "             0            1            2            3            4      \\\n",
              "count  2776.000000  2776.000000  2776.000000  2776.000000  2776.000000   \n",
              "mean      0.054361     0.068751     0.060929     0.011670     0.018159   \n",
              "std       0.140736     0.175865     0.174066     0.082121     0.105274   \n",
              "min       0.000000     0.000000     0.000000     0.000000     0.000000   \n",
              "25%       0.000000     0.000000     0.000000     0.000000     0.000000   \n",
              "50%       0.000000     0.000000     0.000000     0.000000     0.000000   \n",
              "75%       0.000000     0.000000     0.000000     0.000000     0.000000   \n",
              "max       1.000000     1.000000     0.977140     1.000000     1.000000   \n",
              "\n",
              "             5            6            7            8            9      ...  \\\n",
              "count  2776.000000  2776.000000  2776.000000  2776.000000  2776.000000  ...   \n",
              "mean      0.093053     0.014079     0.014560     0.135583     0.036679  ...   \n",
              "std       0.209849     0.088380     0.088222     0.235376     0.135165  ...   \n",
              "min       0.000000     0.000000     0.000000     0.000000     0.000000  ...   \n",
              "25%       0.000000     0.000000     0.000000     0.000000     0.000000  ...   \n",
              "50%       0.000000     0.000000     0.000000     0.000000     0.000000  ...   \n",
              "75%       0.000000     0.000000     0.000000     0.264925     0.000000  ...   \n",
              "max       1.000000     0.878788     0.895000     1.000000     1.000000  ...   \n",
              "\n",
              "             47952        47953        47954        47955        47956  \\\n",
              "count  2776.000000  2776.000000  2776.000000  2776.000000  2776.000000   \n",
              "mean      0.009395     0.010839     0.011264     0.011262     0.010392   \n",
              "std       0.070017     0.070266     0.075342     0.068756     0.067169   \n",
              "min       0.000000     0.000000     0.000000     0.000000     0.000000   \n",
              "25%       0.000000     0.000000     0.000000     0.000000     0.000000   \n",
              "50%       0.000000     0.000000     0.000000     0.000000     0.000000   \n",
              "75%       0.000000     0.000000     0.000000     0.000000     0.000000   \n",
              "max       1.000000     0.898371     0.893487     0.738073     0.882692   \n",
              "\n",
              "             47957        47958        47959        47960        47961  \n",
              "count  2776.000000  2776.000000  2776.000000  2776.000000  2776.000000  \n",
              "mean      0.020130     0.025636     0.024214     0.023126     0.024841  \n",
              "std       0.099564     0.124900     0.129294     0.124293     0.132309  \n",
              "min       0.000000     0.000000     0.000000     0.000000     0.000000  \n",
              "25%       0.000000     0.000000     0.000000     0.000000     0.000000  \n",
              "50%       0.000000     0.000000     0.000000     0.000000     0.000000  \n",
              "75%       0.000000     0.000000     0.000000     0.000000     0.000000  \n",
              "max       1.000000     1.000000     1.000000     1.000000     1.000000  \n",
              "\n",
              "[8 rows x 47962 columns]"
            ],
            "text/html": [
              "\n",
              "  <div id=\"df-217b51b4-f3b5-436b-9763-91dc2d3d6a13\" class=\"colab-df-container\">\n",
              "    <div>\n",
              "<style scoped>\n",
              "    .dataframe tbody tr th:only-of-type {\n",
              "        vertical-align: middle;\n",
              "    }\n",
              "\n",
              "    .dataframe tbody tr th {\n",
              "        vertical-align: top;\n",
              "    }\n",
              "\n",
              "    .dataframe thead th {\n",
              "        text-align: right;\n",
              "    }\n",
              "</style>\n",
              "<table border=\"1\" class=\"dataframe\">\n",
              "  <thead>\n",
              "    <tr style=\"text-align: right;\">\n",
              "      <th></th>\n",
              "      <th>0</th>\n",
              "      <th>1</th>\n",
              "      <th>2</th>\n",
              "      <th>3</th>\n",
              "      <th>4</th>\n",
              "      <th>5</th>\n",
              "      <th>6</th>\n",
              "      <th>7</th>\n",
              "      <th>8</th>\n",
              "      <th>9</th>\n",
              "      <th>...</th>\n",
              "      <th>47952</th>\n",
              "      <th>47953</th>\n",
              "      <th>47954</th>\n",
              "      <th>47955</th>\n",
              "      <th>47956</th>\n",
              "      <th>47957</th>\n",
              "      <th>47958</th>\n",
              "      <th>47959</th>\n",
              "      <th>47960</th>\n",
              "      <th>47961</th>\n",
              "    </tr>\n",
              "  </thead>\n",
              "  <tbody>\n",
              "    <tr>\n",
              "      <th>count</th>\n",
              "      <td>2776.000000</td>\n",
              "      <td>2776.000000</td>\n",
              "      <td>2776.000000</td>\n",
              "      <td>2776.000000</td>\n",
              "      <td>2776.000000</td>\n",
              "      <td>2776.000000</td>\n",
              "      <td>2776.000000</td>\n",
              "      <td>2776.000000</td>\n",
              "      <td>2776.000000</td>\n",
              "      <td>2776.000000</td>\n",
              "      <td>...</td>\n",
              "      <td>2776.000000</td>\n",
              "      <td>2776.000000</td>\n",
              "      <td>2776.000000</td>\n",
              "      <td>2776.000000</td>\n",
              "      <td>2776.000000</td>\n",
              "      <td>2776.000000</td>\n",
              "      <td>2776.000000</td>\n",
              "      <td>2776.000000</td>\n",
              "      <td>2776.000000</td>\n",
              "      <td>2776.000000</td>\n",
              "    </tr>\n",
              "    <tr>\n",
              "      <th>mean</th>\n",
              "      <td>0.054361</td>\n",
              "      <td>0.068751</td>\n",
              "      <td>0.060929</td>\n",
              "      <td>0.011670</td>\n",
              "      <td>0.018159</td>\n",
              "      <td>0.093053</td>\n",
              "      <td>0.014079</td>\n",
              "      <td>0.014560</td>\n",
              "      <td>0.135583</td>\n",
              "      <td>0.036679</td>\n",
              "      <td>...</td>\n",
              "      <td>0.009395</td>\n",
              "      <td>0.010839</td>\n",
              "      <td>0.011264</td>\n",
              "      <td>0.011262</td>\n",
              "      <td>0.010392</td>\n",
              "      <td>0.020130</td>\n",
              "      <td>0.025636</td>\n",
              "      <td>0.024214</td>\n",
              "      <td>0.023126</td>\n",
              "      <td>0.024841</td>\n",
              "    </tr>\n",
              "    <tr>\n",
              "      <th>std</th>\n",
              "      <td>0.140736</td>\n",
              "      <td>0.175865</td>\n",
              "      <td>0.174066</td>\n",
              "      <td>0.082121</td>\n",
              "      <td>0.105274</td>\n",
              "      <td>0.209849</td>\n",
              "      <td>0.088380</td>\n",
              "      <td>0.088222</td>\n",
              "      <td>0.235376</td>\n",
              "      <td>0.135165</td>\n",
              "      <td>...</td>\n",
              "      <td>0.070017</td>\n",
              "      <td>0.070266</td>\n",
              "      <td>0.075342</td>\n",
              "      <td>0.068756</td>\n",
              "      <td>0.067169</td>\n",
              "      <td>0.099564</td>\n",
              "      <td>0.124900</td>\n",
              "      <td>0.129294</td>\n",
              "      <td>0.124293</td>\n",
              "      <td>0.132309</td>\n",
              "    </tr>\n",
              "    <tr>\n",
              "      <th>min</th>\n",
              "      <td>0.000000</td>\n",
              "      <td>0.000000</td>\n",
              "      <td>0.000000</td>\n",
              "      <td>0.000000</td>\n",
              "      <td>0.000000</td>\n",
              "      <td>0.000000</td>\n",
              "      <td>0.000000</td>\n",
              "      <td>0.000000</td>\n",
              "      <td>0.000000</td>\n",
              "      <td>0.000000</td>\n",
              "      <td>...</td>\n",
              "      <td>0.000000</td>\n",
              "      <td>0.000000</td>\n",
              "      <td>0.000000</td>\n",
              "      <td>0.000000</td>\n",
              "      <td>0.000000</td>\n",
              "      <td>0.000000</td>\n",
              "      <td>0.000000</td>\n",
              "      <td>0.000000</td>\n",
              "      <td>0.000000</td>\n",
              "      <td>0.000000</td>\n",
              "    </tr>\n",
              "    <tr>\n",
              "      <th>25%</th>\n",
              "      <td>0.000000</td>\n",
              "      <td>0.000000</td>\n",
              "      <td>0.000000</td>\n",
              "      <td>0.000000</td>\n",
              "      <td>0.000000</td>\n",
              "      <td>0.000000</td>\n",
              "      <td>0.000000</td>\n",
              "      <td>0.000000</td>\n",
              "      <td>0.000000</td>\n",
              "      <td>0.000000</td>\n",
              "      <td>...</td>\n",
              "      <td>0.000000</td>\n",
              "      <td>0.000000</td>\n",
              "      <td>0.000000</td>\n",
              "      <td>0.000000</td>\n",
              "      <td>0.000000</td>\n",
              "      <td>0.000000</td>\n",
              "      <td>0.000000</td>\n",
              "      <td>0.000000</td>\n",
              "      <td>0.000000</td>\n",
              "      <td>0.000000</td>\n",
              "    </tr>\n",
              "    <tr>\n",
              "      <th>50%</th>\n",
              "      <td>0.000000</td>\n",
              "      <td>0.000000</td>\n",
              "      <td>0.000000</td>\n",
              "      <td>0.000000</td>\n",
              "      <td>0.000000</td>\n",
              "      <td>0.000000</td>\n",
              "      <td>0.000000</td>\n",
              "      <td>0.000000</td>\n",
              "      <td>0.000000</td>\n",
              "      <td>0.000000</td>\n",
              "      <td>...</td>\n",
              "      <td>0.000000</td>\n",
              "      <td>0.000000</td>\n",
              "      <td>0.000000</td>\n",
              "      <td>0.000000</td>\n",
              "      <td>0.000000</td>\n",
              "      <td>0.000000</td>\n",
              "      <td>0.000000</td>\n",
              "      <td>0.000000</td>\n",
              "      <td>0.000000</td>\n",
              "      <td>0.000000</td>\n",
              "    </tr>\n",
              "    <tr>\n",
              "      <th>75%</th>\n",
              "      <td>0.000000</td>\n",
              "      <td>0.000000</td>\n",
              "      <td>0.000000</td>\n",
              "      <td>0.000000</td>\n",
              "      <td>0.000000</td>\n",
              "      <td>0.000000</td>\n",
              "      <td>0.000000</td>\n",
              "      <td>0.000000</td>\n",
              "      <td>0.264925</td>\n",
              "      <td>0.000000</td>\n",
              "      <td>...</td>\n",
              "      <td>0.000000</td>\n",
              "      <td>0.000000</td>\n",
              "      <td>0.000000</td>\n",
              "      <td>0.000000</td>\n",
              "      <td>0.000000</td>\n",
              "      <td>0.000000</td>\n",
              "      <td>0.000000</td>\n",
              "      <td>0.000000</td>\n",
              "      <td>0.000000</td>\n",
              "      <td>0.000000</td>\n",
              "    </tr>\n",
              "    <tr>\n",
              "      <th>max</th>\n",
              "      <td>1.000000</td>\n",
              "      <td>1.000000</td>\n",
              "      <td>0.977140</td>\n",
              "      <td>1.000000</td>\n",
              "      <td>1.000000</td>\n",
              "      <td>1.000000</td>\n",
              "      <td>0.878788</td>\n",
              "      <td>0.895000</td>\n",
              "      <td>1.000000</td>\n",
              "      <td>1.000000</td>\n",
              "      <td>...</td>\n",
              "      <td>1.000000</td>\n",
              "      <td>0.898371</td>\n",
              "      <td>0.893487</td>\n",
              "      <td>0.738073</td>\n",
              "      <td>0.882692</td>\n",
              "      <td>1.000000</td>\n",
              "      <td>1.000000</td>\n",
              "      <td>1.000000</td>\n",
              "      <td>1.000000</td>\n",
              "      <td>1.000000</td>\n",
              "    </tr>\n",
              "  </tbody>\n",
              "</table>\n",
              "<p>8 rows × 47962 columns</p>\n",
              "</div>\n",
              "    <div class=\"colab-df-buttons\">\n",
              "\n",
              "  <div class=\"colab-df-container\">\n",
              "    <button class=\"colab-df-convert\" onclick=\"convertToInteractive('df-217b51b4-f3b5-436b-9763-91dc2d3d6a13')\"\n",
              "            title=\"Convert this dataframe to an interactive table.\"\n",
              "            style=\"display:none;\">\n",
              "\n",
              "  <svg xmlns=\"http://www.w3.org/2000/svg\" height=\"24px\" viewBox=\"0 -960 960 960\">\n",
              "    <path d=\"M120-120v-720h720v720H120Zm60-500h600v-160H180v160Zm220 220h160v-160H400v160Zm0 220h160v-160H400v160ZM180-400h160v-160H180v160Zm440 0h160v-160H620v160ZM180-180h160v-160H180v160Zm440 0h160v-160H620v160Z\"/>\n",
              "  </svg>\n",
              "    </button>\n",
              "\n",
              "  <style>\n",
              "    .colab-df-container {\n",
              "      display:flex;\n",
              "      gap: 12px;\n",
              "    }\n",
              "\n",
              "    .colab-df-convert {\n",
              "      background-color: #E8F0FE;\n",
              "      border: none;\n",
              "      border-radius: 50%;\n",
              "      cursor: pointer;\n",
              "      display: none;\n",
              "      fill: #1967D2;\n",
              "      height: 32px;\n",
              "      padding: 0 0 0 0;\n",
              "      width: 32px;\n",
              "    }\n",
              "\n",
              "    .colab-df-convert:hover {\n",
              "      background-color: #E2EBFA;\n",
              "      box-shadow: 0px 1px 2px rgba(60, 64, 67, 0.3), 0px 1px 3px 1px rgba(60, 64, 67, 0.15);\n",
              "      fill: #174EA6;\n",
              "    }\n",
              "\n",
              "    .colab-df-buttons div {\n",
              "      margin-bottom: 4px;\n",
              "    }\n",
              "\n",
              "    [theme=dark] .colab-df-convert {\n",
              "      background-color: #3B4455;\n",
              "      fill: #D2E3FC;\n",
              "    }\n",
              "\n",
              "    [theme=dark] .colab-df-convert:hover {\n",
              "      background-color: #434B5C;\n",
              "      box-shadow: 0px 1px 3px 1px rgba(0, 0, 0, 0.15);\n",
              "      filter: drop-shadow(0px 1px 2px rgba(0, 0, 0, 0.3));\n",
              "      fill: #FFFFFF;\n",
              "    }\n",
              "  </style>\n",
              "\n",
              "    <script>\n",
              "      const buttonEl =\n",
              "        document.querySelector('#df-217b51b4-f3b5-436b-9763-91dc2d3d6a13 button.colab-df-convert');\n",
              "      buttonEl.style.display =\n",
              "        google.colab.kernel.accessAllowed ? 'block' : 'none';\n",
              "\n",
              "      async function convertToInteractive(key) {\n",
              "        const element = document.querySelector('#df-217b51b4-f3b5-436b-9763-91dc2d3d6a13');\n",
              "        const dataTable =\n",
              "          await google.colab.kernel.invokeFunction('convertToInteractive',\n",
              "                                                    [key], {});\n",
              "        if (!dataTable) return;\n",
              "\n",
              "        const docLinkHtml = 'Like what you see? Visit the ' +\n",
              "          '<a target=\"_blank\" href=https://colab.research.google.com/notebooks/data_table.ipynb>data table notebook</a>'\n",
              "          + ' to learn more about interactive tables.';\n",
              "        element.innerHTML = '';\n",
              "        dataTable['output_type'] = 'display_data';\n",
              "        await google.colab.output.renderOutput(dataTable, element);\n",
              "        const docLink = document.createElement('div');\n",
              "        docLink.innerHTML = docLinkHtml;\n",
              "        element.appendChild(docLink);\n",
              "      }\n",
              "    </script>\n",
              "  </div>\n",
              "\n",
              "\n",
              "<div id=\"df-faaa3ef6-1332-4e59-beb3-08f1bde37bad\">\n",
              "  <button class=\"colab-df-quickchart\" onclick=\"quickchart('df-faaa3ef6-1332-4e59-beb3-08f1bde37bad')\"\n",
              "            title=\"Suggest charts\"\n",
              "            style=\"display:none;\">\n",
              "\n",
              "<svg xmlns=\"http://www.w3.org/2000/svg\" height=\"24px\"viewBox=\"0 0 24 24\"\n",
              "     width=\"24px\">\n",
              "    <g>\n",
              "        <path d=\"M19 3H5c-1.1 0-2 .9-2 2v14c0 1.1.9 2 2 2h14c1.1 0 2-.9 2-2V5c0-1.1-.9-2-2-2zM9 17H7v-7h2v7zm4 0h-2V7h2v10zm4 0h-2v-4h2v4z\"/>\n",
              "    </g>\n",
              "</svg>\n",
              "  </button>\n",
              "\n",
              "<style>\n",
              "  .colab-df-quickchart {\n",
              "      --bg-color: #E8F0FE;\n",
              "      --fill-color: #1967D2;\n",
              "      --hover-bg-color: #E2EBFA;\n",
              "      --hover-fill-color: #174EA6;\n",
              "      --disabled-fill-color: #AAA;\n",
              "      --disabled-bg-color: #DDD;\n",
              "  }\n",
              "\n",
              "  [theme=dark] .colab-df-quickchart {\n",
              "      --bg-color: #3B4455;\n",
              "      --fill-color: #D2E3FC;\n",
              "      --hover-bg-color: #434B5C;\n",
              "      --hover-fill-color: #FFFFFF;\n",
              "      --disabled-bg-color: #3B4455;\n",
              "      --disabled-fill-color: #666;\n",
              "  }\n",
              "\n",
              "  .colab-df-quickchart {\n",
              "    background-color: var(--bg-color);\n",
              "    border: none;\n",
              "    border-radius: 50%;\n",
              "    cursor: pointer;\n",
              "    display: none;\n",
              "    fill: var(--fill-color);\n",
              "    height: 32px;\n",
              "    padding: 0;\n",
              "    width: 32px;\n",
              "  }\n",
              "\n",
              "  .colab-df-quickchart:hover {\n",
              "    background-color: var(--hover-bg-color);\n",
              "    box-shadow: 0 1px 2px rgba(60, 64, 67, 0.3), 0 1px 3px 1px rgba(60, 64, 67, 0.15);\n",
              "    fill: var(--button-hover-fill-color);\n",
              "  }\n",
              "\n",
              "  .colab-df-quickchart-complete:disabled,\n",
              "  .colab-df-quickchart-complete:disabled:hover {\n",
              "    background-color: var(--disabled-bg-color);\n",
              "    fill: var(--disabled-fill-color);\n",
              "    box-shadow: none;\n",
              "  }\n",
              "\n",
              "  .colab-df-spinner {\n",
              "    border: 2px solid var(--fill-color);\n",
              "    border-color: transparent;\n",
              "    border-bottom-color: var(--fill-color);\n",
              "    animation:\n",
              "      spin 1s steps(1) infinite;\n",
              "  }\n",
              "\n",
              "  @keyframes spin {\n",
              "    0% {\n",
              "      border-color: transparent;\n",
              "      border-bottom-color: var(--fill-color);\n",
              "      border-left-color: var(--fill-color);\n",
              "    }\n",
              "    20% {\n",
              "      border-color: transparent;\n",
              "      border-left-color: var(--fill-color);\n",
              "      border-top-color: var(--fill-color);\n",
              "    }\n",
              "    30% {\n",
              "      border-color: transparent;\n",
              "      border-left-color: var(--fill-color);\n",
              "      border-top-color: var(--fill-color);\n",
              "      border-right-color: var(--fill-color);\n",
              "    }\n",
              "    40% {\n",
              "      border-color: transparent;\n",
              "      border-right-color: var(--fill-color);\n",
              "      border-top-color: var(--fill-color);\n",
              "    }\n",
              "    60% {\n",
              "      border-color: transparent;\n",
              "      border-right-color: var(--fill-color);\n",
              "    }\n",
              "    80% {\n",
              "      border-color: transparent;\n",
              "      border-right-color: var(--fill-color);\n",
              "      border-bottom-color: var(--fill-color);\n",
              "    }\n",
              "    90% {\n",
              "      border-color: transparent;\n",
              "      border-bottom-color: var(--fill-color);\n",
              "    }\n",
              "  }\n",
              "</style>\n",
              "\n",
              "  <script>\n",
              "    async function quickchart(key) {\n",
              "      const quickchartButtonEl =\n",
              "        document.querySelector('#' + key + ' button');\n",
              "      quickchartButtonEl.disabled = true;  // To prevent multiple clicks.\n",
              "      quickchartButtonEl.classList.add('colab-df-spinner');\n",
              "      try {\n",
              "        const charts = await google.colab.kernel.invokeFunction(\n",
              "            'suggestCharts', [key], {});\n",
              "      } catch (error) {\n",
              "        console.error('Error during call to suggestCharts:', error);\n",
              "      }\n",
              "      quickchartButtonEl.classList.remove('colab-df-spinner');\n",
              "      quickchartButtonEl.classList.add('colab-df-quickchart-complete');\n",
              "    }\n",
              "    (() => {\n",
              "      let quickchartButtonEl =\n",
              "        document.querySelector('#df-faaa3ef6-1332-4e59-beb3-08f1bde37bad button');\n",
              "      quickchartButtonEl.style.display =\n",
              "        google.colab.kernel.accessAllowed ? 'block' : 'none';\n",
              "    })();\n",
              "  </script>\n",
              "</div>\n",
              "    </div>\n",
              "  </div>\n"
            ]
          },
          "metadata": {},
          "execution_count": 12
        }
      ]
    },
    {
      "cell_type": "code",
      "source": [
        "# creating train and test\n",
        "# qua ho provato vari modi, in questo caso avevo letto la shape e ho deciso di tenere come test le ultime 8623 timeseries estrapolate dai dati\n",
        "# test_size = 5000\n",
        "X_train, X_test = np.split(X,[880000])\n",
        "y_train, y_test = np.split(y,[880000])\n",
        "print(X_train.shape,y_train.shape,X_test.shape,y_test.shape)"
      ],
      "metadata": {
        "id": "kVZRa4I0oY61",
        "colab": {
          "base_uri": "https://localhost:8080/"
        },
        "outputId": "99441450-a370-4774-988d-0eceda96877a",
        "execution": {
          "iopub.status.busy": "2023-12-17T15:13:51.615503Z",
          "iopub.execute_input": "2023-12-17T15:13:51.616118Z",
          "iopub.status.idle": "2023-12-17T15:13:51.621789Z",
          "shell.execute_reply.started": "2023-12-17T15:13:51.616089Z",
          "shell.execute_reply": "2023-12-17T15:13:51.620940Z"
        },
        "trusted": true
      },
      "execution_count": null,
      "outputs": [
        {
          "output_type": "stream",
          "name": "stdout",
          "text": [
            "(297278, 200) (297278, 9) (0, 200) (0, 9)\n"
          ]
        }
      ]
    },
    {
      "cell_type": "code",
      "source": [
        "for i,element in enumerate(X_train):    # qua aggiungo rumore uniformemente distribuito al training set, l'ho solo scritta ma mai usata perché non so se funzioni\n",
        "  for j,number in enumerate(element):\n",
        "    X_train[i,j] = X_train[i,j] + random.random()/100"
      ],
      "metadata": {
        "id": "tk3LLZF_pll5",
        "execution": {
          "iopub.status.busy": "2023-12-17T15:13:51.622970Z",
          "iopub.execute_input": "2023-12-17T15:13:51.623304Z",
          "iopub.status.idle": "2023-12-17T15:14:57.153166Z",
          "shell.execute_reply.started": "2023-12-17T15:13:51.623270Z",
          "shell.execute_reply": "2023-12-17T15:14:57.151972Z"
        },
        "trusted": true
      },
      "execution_count": null,
      "outputs": []
    },
    {
      "cell_type": "code",
      "source": [
        "X_train = np.expand_dims(X_train,axis=2)\n",
        "X_train.shape"
      ],
      "metadata": {
        "colab": {
          "base_uri": "https://localhost:8080/"
        },
        "id": "XG0k3Kj1KcoV",
        "outputId": "7d230036-c437-4b3e-c5f3-a8fbac70fb80",
        "execution": {
          "iopub.status.busy": "2023-12-17T15:14:57.154463Z",
          "iopub.execute_input": "2023-12-17T15:14:57.154760Z",
          "iopub.status.idle": "2023-12-17T15:14:57.161960Z",
          "shell.execute_reply.started": "2023-12-17T15:14:57.154733Z",
          "shell.execute_reply": "2023-12-17T15:14:57.160957Z"
        },
        "trusted": true
      },
      "execution_count": null,
      "outputs": [
        {
          "output_type": "execute_result",
          "data": {
            "text/plain": [
              "(297278, 200, 1)"
            ]
          },
          "metadata": {},
          "execution_count": 17
        }
      ]
    },
    {
      "cell_type": "code",
      "source": [
        "y_train = np.expand_dims(y_train,axis=2)\n",
        "y_train.shape"
      ],
      "metadata": {
        "colab": {
          "base_uri": "https://localhost:8080/"
        },
        "id": "kybLhTLkzll9",
        "outputId": "c33df822-e467-49f7-8dc9-1addb5c40df3",
        "execution": {
          "iopub.status.busy": "2023-12-17T15:14:57.163419Z",
          "iopub.execute_input": "2023-12-17T15:14:57.164419Z",
          "iopub.status.idle": "2023-12-17T15:14:57.176727Z",
          "shell.execute_reply.started": "2023-12-17T15:14:57.164371Z",
          "shell.execute_reply": "2023-12-17T15:14:57.175672Z"
        },
        "trusted": true
      },
      "execution_count": null,
      "outputs": [
        {
          "output_type": "execute_result",
          "data": {
            "text/plain": [
              "(297278, 9, 1)"
            ]
          },
          "metadata": {},
          "execution_count": 18
        }
      ]
    },
    {
      "cell_type": "code",
      "source": [
        "y_test = np.expand_dims(y_test,axis=2)\n",
        "y_test.shape"
      ],
      "metadata": {
        "colab": {
          "base_uri": "https://localhost:8080/"
        },
        "id": "uM4PCdalGE65",
        "outputId": "304f3bf4-45d1-4277-b7ef-e58f0e4949f6",
        "execution": {
          "iopub.status.busy": "2023-12-17T15:14:57.177925Z",
          "iopub.execute_input": "2023-12-17T15:14:57.178176Z",
          "iopub.status.idle": "2023-12-17T15:14:57.188249Z",
          "shell.execute_reply.started": "2023-12-17T15:14:57.178154Z",
          "shell.execute_reply": "2023-12-17T15:14:57.187287Z"
        },
        "trusted": true
      },
      "execution_count": null,
      "outputs": [
        {
          "output_type": "execute_result",
          "data": {
            "text/plain": [
              "(0, 9, 1)"
            ]
          },
          "metadata": {},
          "execution_count": 19
        }
      ]
    },
    {
      "cell_type": "code",
      "source": [
        "X_test = np.expand_dims(X_test,axis=2)\n",
        "X_test.shape"
      ],
      "metadata": {
        "colab": {
          "base_uri": "https://localhost:8080/"
        },
        "id": "ogaOP9plGFDD",
        "outputId": "0f32bf65-67a7-404f-c40f-ff1c5671d0a1",
        "execution": {
          "iopub.status.busy": "2023-12-17T15:14:57.189521Z",
          "iopub.execute_input": "2023-12-17T15:14:57.189950Z",
          "iopub.status.idle": "2023-12-17T15:14:57.200098Z",
          "shell.execute_reply.started": "2023-12-17T15:14:57.189922Z",
          "shell.execute_reply": "2023-12-17T15:14:57.199022Z"
        },
        "trusted": true
      },
      "execution_count": null,
      "outputs": [
        {
          "output_type": "execute_result",
          "data": {
            "text/plain": [
              "(0, 200, 1)"
            ]
          },
          "metadata": {},
          "execution_count": 20
        }
      ]
    },
    {
      "cell_type": "code",
      "source": [
        "input_shape = X_train.shape[1:]\n",
        "output_shape = y_train.shape[1:]\n",
        "batch_size = 64\n",
        "epochs = 200"
      ],
      "metadata": {
        "id": "reGYD8_Gpl3C",
        "execution": {
          "iopub.status.busy": "2023-12-17T15:14:57.201192Z",
          "iopub.execute_input": "2023-12-17T15:14:57.201496Z",
          "iopub.status.idle": "2023-12-17T15:14:57.208856Z",
          "shell.execute_reply.started": "2023-12-17T15:14:57.201462Z",
          "shell.execute_reply": "2023-12-17T15:14:57.208035Z"
        },
        "trusted": true
      },
      "execution_count": null,
      "outputs": []
    },
    {
      "cell_type": "code",
      "source": [
        "input_shape,output_shape"
      ],
      "metadata": {
        "colab": {
          "base_uri": "https://localhost:8080/"
        },
        "id": "tIqLWTbv2jyZ",
        "outputId": "33ac399c-2ae9-4d04-8dd1-5530ce8a466e",
        "execution": {
          "iopub.status.busy": "2023-12-17T15:14:57.209751Z",
          "iopub.execute_input": "2023-12-17T15:14:57.209998Z",
          "iopub.status.idle": "2023-12-17T15:14:57.220684Z",
          "shell.execute_reply.started": "2023-12-17T15:14:57.209976Z",
          "shell.execute_reply": "2023-12-17T15:14:57.219853Z"
        },
        "trusted": true
      },
      "execution_count": null,
      "outputs": [
        {
          "output_type": "execute_result",
          "data": {
            "text/plain": [
              "((200, 1), (9, 1))"
            ]
          },
          "metadata": {},
          "execution_count": 22
        }
      ]
    },
    {
      "cell_type": "code",
      "source": [
        "# piccola modifica rispetto all'originale: qua ho messo due layer LSTM da 32 invece da uno di 64, sperando di diminuire overfitting ma non ha funzionato molto bene, da migliorare\n",
        "\n",
        "def build_LSTM_model(input_shape, output_shape):\n",
        "    # Ensure the input time steps are at least as many as the output time steps\n",
        "    assert input_shape[0] >= output_shape[0], \"For this exercise we want input time steps to be >= of output time steps\"\n",
        "\n",
        "    # Define the input layer with the specified shape\n",
        "    input_layer = tfkl.Input(shape=input_shape, name='input_layer')\n",
        "\n",
        "    # Add a Bidirectional LSTM layer with 32 units, return true very important, I want a sequence\n",
        "    x = tfkl.Bidirectional(tfkl.LSTM(32, return_sequences=True, name='lstm'), name='bidirectional_lstm1')(input_layer)\n",
        "    x = tfkl.Bidirectional(tfkl.LSTM(32, return_sequences=True, name='lstm'), name='bidirectional_lstm2')(x)\n",
        "\n",
        "    # Add a 1D Convolution layer with 128 filters and a kernel size of 3\n",
        "    x = tfkl.Conv1D(128, 3, padding='same', activation='relu', name='conv')(x)\n",
        "\n",
        "    # Add a final Convolution layer to match the desired output shape\n",
        "    output_layer = tfkl.Conv1D(output_shape[1], 3, padding='same', name='output_layer')(x)\n",
        "\n",
        "    # Calculate the size to crop from the output to match the output shape: very important because bilstm gives me same sequence length*2, so it gives me 100. But I want 50, so I need to crop, I want a telescope size\n",
        "    crop_size = output_layer.shape[1] - output_shape[0]\n",
        "\n",
        "    # Crop the output to the desired length: I take only cropped last\n",
        "    output_layer = tfkl.Cropping1D((0, crop_size), name='cropping')(output_layer)\n",
        "\n",
        "    # Construct the model by connecting input and output layers\n",
        "    model = tf.keras.Model(inputs=input_layer, outputs=output_layer, name='CONV_LSTM_model')\n",
        "\n",
        "    # Construct the model by connecting input and output layers\n",
        "    model = tf.keras.Model(inputs=input_layer, outputs=output_layer, name='CONV_LSTM_model')\n",
        "\n",
        "    # Compile the model with Mean Squared Error loss and Adam optimizer\n",
        "    model.compile(loss=tf.keras.losses.MeanSquaredError(), optimizer=tf.keras.optimizers.AdamW())\n",
        "\n",
        "    return model"
      ],
      "metadata": {
        "id": "B8hyRASFqKnY",
        "execution": {
          "iopub.status.busy": "2023-12-17T15:14:57.221885Z",
          "iopub.execute_input": "2023-12-17T15:14:57.222133Z",
          "iopub.status.idle": "2023-12-17T15:14:57.231896Z",
          "shell.execute_reply.started": "2023-12-17T15:14:57.222111Z",
          "shell.execute_reply": "2023-12-17T15:14:57.231004Z"
        },
        "trusted": true
      },
      "execution_count": null,
      "outputs": []
    },
    {
      "cell_type": "code",
      "source": [
        "model = build_LSTM_model(input_shape, output_shape)\n",
        "model.summary()\n",
        "tfk.utils.plot_model(model, expand_nested=True, show_shapes=True)"
      ],
      "metadata": {
        "id": "S67hWoOjqKqQ",
        "colab": {
          "base_uri": "https://localhost:8080/",
          "height": 1000
        },
        "outputId": "da2a99ce-1ae9-42b8-ec43-3f4d09555c05",
        "execution": {
          "iopub.status.busy": "2023-12-17T15:14:57.232913Z",
          "iopub.execute_input": "2023-12-17T15:14:57.233190Z",
          "iopub.status.idle": "2023-12-17T15:14:58.353545Z",
          "shell.execute_reply.started": "2023-12-17T15:14:57.233167Z",
          "shell.execute_reply": "2023-12-17T15:14:58.352620Z"
        },
        "trusted": true
      },
      "execution_count": null,
      "outputs": [
        {
          "output_type": "stream",
          "name": "stdout",
          "text": [
            "Model: \"CONV_LSTM_model\"\n",
            "_________________________________________________________________\n",
            " Layer (type)                Output Shape              Param #   \n",
            "=================================================================\n",
            " input_layer (InputLayer)    [(None, 200, 1)]          0         \n",
            "                                                                 \n",
            " bidirectional_lstm1 (Bidir  (None, 200, 64)           8704      \n",
            " ectional)                                                       \n",
            "                                                                 \n",
            " bidirectional_lstm2 (Bidir  (None, 200, 64)           24832     \n",
            " ectional)                                                       \n",
            "                                                                 \n",
            " conv (Conv1D)               (None, 200, 128)          24704     \n",
            "                                                                 \n",
            " output_layer (Conv1D)       (None, 200, 1)            385       \n",
            "                                                                 \n",
            " cropping (Cropping1D)       (None, 9, 1)              0         \n",
            "                                                                 \n",
            "=================================================================\n",
            "Total params: 58625 (229.00 KB)\n",
            "Trainable params: 58625 (229.00 KB)\n",
            "Non-trainable params: 0 (0.00 Byte)\n",
            "_________________________________________________________________\n"
          ]
        },
        {
          "output_type": "execute_result",
          "data": {
            "image/png": "[encoded data removed]",
            "text/plain": [
              "<IPython.core.display.Image object>"
            ]
          },
          "metadata": {},
          "execution_count": 24
        }
      ]
    },
    {
      "cell_type": "code",
      "source": [
        "# Train the model\n",
        "history = model.fit(\n",
        "    x = X_train,\n",
        "    y = y_train,\n",
        "    batch_size = batch_size,\n",
        "    epochs = epochs,\n",
        "    validation_split=.1,\n",
        "    callbacks = [\n",
        "        tfk.callbacks.EarlyStopping(monitor='val_loss', mode='min', patience=12, restore_best_weights=True),\n",
        "        tfk.callbacks.ReduceLROnPlateau(monitor='val_loss', mode='min', patience=10, factor=0.1, min_lr=1e-5)\n",
        "    ]\n",
        ").history"
      ],
      "metadata": {
        "id": "usXNfKBgqKtI",
        "colab": {
          "base_uri": "https://localhost:8080/"
        },
        "outputId": "6e030902-514f-4c4a-f8dc-b31a14a0a92b",
        "execution": {
          "iopub.status.busy": "2023-12-17T15:14:58.354734Z",
          "iopub.execute_input": "2023-12-17T15:14:58.354986Z",
          "iopub.status.idle": "2023-12-17T17:33:01.232757Z",
          "shell.execute_reply.started": "2023-12-17T15:14:58.354963Z",
          "shell.execute_reply": "2023-12-17T17:33:01.231832Z"
        },
        "trusted": true
      },
      "execution_count": null,
      "outputs": [
        {
          "output_type": "stream",
          "name": "stdout",
          "text": [
            "Epoch 1/200\n",
            "4181/4181 [==============================] - 140s 31ms/step - loss: 0.0522 - val_loss: 0.0286 - lr: 0.0010\n",
            "Epoch 2/200\n",
            "4181/4181 [==============================] - 126s 30ms/step - loss: 0.0272 - val_loss: 0.0112 - lr: 0.0010\n",
            "Epoch 3/200\n",
            "4181/4181 [==============================] - 124s 30ms/step - loss: 0.0089 - val_loss: 0.0092 - lr: 0.0010\n",
            "Epoch 4/200\n",
            "4181/4181 [==============================] - 123s 29ms/step - loss: 0.0079 - val_loss: 0.0086 - lr: 0.0010\n",
            "Epoch 5/200\n",
            "4181/4181 [==============================] - 126s 30ms/step - loss: 0.0075 - val_loss: 0.0085 - lr: 0.0010\n",
            "Epoch 6/200\n",
            "4181/4181 [==============================] - 124s 30ms/step - loss: 0.0073 - val_loss: 0.0083 - lr: 0.0010\n",
            "Epoch 7/200\n",
            "4181/4181 [==============================] - 123s 29ms/step - loss: 0.0071 - val_loss: 0.0082 - lr: 0.0010\n",
            "Epoch 8/200\n",
            "4181/4181 [==============================] - 125s 30ms/step - loss: 0.0070 - val_loss: 0.0079 - lr: 0.0010\n",
            "Epoch 9/200\n",
            "4181/4181 [==============================] - 124s 30ms/step - loss: 0.0068 - val_loss: 0.0081 - lr: 0.0010\n",
            "Epoch 10/200\n",
            "4181/4181 [==============================] - 123s 29ms/step - loss: 0.0067 - val_loss: 0.0078 - lr: 0.0010\n",
            "Epoch 11/200\n",
            "4181/4181 [==============================] - 125s 30ms/step - loss: 0.0065 - val_loss: 0.0076 - lr: 0.0010\n",
            "Epoch 12/200\n",
            "4181/4181 [==============================] - 122s 29ms/step - loss: 0.0068 - val_loss: 0.0079 - lr: 0.0010\n",
            "Epoch 13/200\n",
            "4181/4181 [==============================] - 124s 30ms/step - loss: 0.0066 - val_loss: 0.0078 - lr: 0.0010\n",
            "Epoch 14/200\n",
            "4181/4181 [==============================] - 124s 30ms/step - loss: 0.0064 - val_loss: 0.0075 - lr: 0.0010\n",
            "Epoch 15/200\n",
            "4181/4181 [==============================] - 124s 30ms/step - loss: 0.0062 - val_loss: 0.0074 - lr: 0.0010\n",
            "Epoch 16/200\n",
            "4181/4181 [==============================] - 123s 29ms/step - loss: 0.0062 - val_loss: 0.0073 - lr: 0.0010\n",
            "Epoch 17/200\n",
            "4181/4181 [==============================] - 125s 30ms/step - loss: 0.0061 - val_loss: 0.0072 - lr: 0.0010\n",
            "Epoch 18/200\n",
            "4181/4181 [==============================] - 122s 29ms/step - loss: 0.0060 - val_loss: 0.0073 - lr: 0.0010\n",
            "Epoch 19/200\n",
            "4181/4181 [==============================] - 123s 30ms/step - loss: 0.0060 - val_loss: 0.0074 - lr: 0.0010\n",
            "Epoch 20/200\n",
            "4181/4181 [==============================] - 125s 30ms/step - loss: 0.0059 - val_loss: 0.0073 - lr: 0.0010\n",
            "Epoch 21/200\n",
            "4181/4181 [==============================] - 124s 30ms/step - loss: 0.0059 - val_loss: 0.0072 - lr: 0.0010\n",
            "Epoch 22/200\n",
            "4181/4181 [==============================] - 123s 29ms/step - loss: 0.0059 - val_loss: 0.0071 - lr: 0.0010\n",
            "Epoch 23/200\n",
            "4181/4181 [==============================] - 125s 30ms/step - loss: 0.0058 - val_loss: 0.0071 - lr: 0.0010\n",
            "Epoch 24/200\n",
            "4181/4181 [==============================] - 121s 29ms/step - loss: 0.0058 - val_loss: 0.0071 - lr: 0.0010\n",
            "Epoch 25/200\n",
            "4181/4181 [==============================] - 122s 29ms/step - loss: 0.0058 - val_loss: 0.0071 - lr: 0.0010\n",
            "Epoch 26/200\n",
            "4181/4181 [==============================] - 125s 30ms/step - loss: 0.0058 - val_loss: 0.0073 - lr: 0.0010\n",
            "Epoch 27/200\n",
            "4181/4181 [==============================] - 122s 29ms/step - loss: 0.0057 - val_loss: 0.0071 - lr: 0.0010\n",
            "Epoch 28/200\n",
            "4181/4181 [==============================] - 123s 29ms/step - loss: 0.0057 - val_loss: 0.0070 - lr: 0.0010\n",
            "Epoch 29/200\n",
            "4181/4181 [==============================] - 124s 30ms/step - loss: 0.0057 - val_loss: 0.0071 - lr: 0.0010\n",
            "Epoch 30/200\n",
            "4181/4181 [==============================] - 122s 29ms/step - loss: 0.0057 - val_loss: 0.0069 - lr: 0.0010\n",
            "Epoch 31/200\n",
            "4181/4181 [==============================] - 125s 30ms/step - loss: 0.0057 - val_loss: 0.0070 - lr: 0.0010\n",
            "Epoch 32/200\n",
            "4181/4181 [==============================] - 122s 29ms/step - loss: 0.0056 - val_loss: 0.0071 - lr: 0.0010\n",
            "Epoch 33/200\n",
            "4181/4181 [==============================] - 124s 30ms/step - loss: 0.0056 - val_loss: 0.0071 - lr: 0.0010\n",
            "Epoch 34/200\n",
            "4181/4181 [==============================] - 123s 29ms/step - loss: 0.0056 - val_loss: 0.0070 - lr: 0.0010\n",
            "Epoch 35/200\n",
            "4181/4181 [==============================] - 123s 29ms/step - loss: 0.0056 - val_loss: 0.0069 - lr: 0.0010\n",
            "Epoch 36/200\n",
            "4181/4181 [==============================] - 121s 29ms/step - loss: 0.0056 - val_loss: 0.0070 - lr: 0.0010\n",
            "Epoch 37/200\n",
            "4181/4181 [==============================] - 125s 30ms/step - loss: 0.0055 - val_loss: 0.0069 - lr: 0.0010\n",
            "Epoch 38/200\n",
            "4181/4181 [==============================] - 123s 29ms/step - loss: 0.0055 - val_loss: 0.0071 - lr: 0.0010\n",
            "Epoch 39/200\n",
            "4181/4181 [==============================] - 128s 31ms/step - loss: 0.0055 - val_loss: 0.0069 - lr: 0.0010\n",
            "Epoch 40/200\n",
            "4181/4181 [==============================] - 127s 30ms/step - loss: 0.0055 - val_loss: 0.0070 - lr: 0.0010\n",
            "Epoch 41/200\n",
            "4181/4181 [==============================] - 125s 30ms/step - loss: 0.0055 - val_loss: 0.0070 - lr: 0.0010\n",
            "Epoch 42/200\n",
            "4181/4181 [==============================] - 122s 29ms/step - loss: 0.0055 - val_loss: 0.0068 - lr: 0.0010\n",
            "Epoch 43/200\n",
            "4181/4181 [==============================] - 126s 30ms/step - loss: 0.0055 - val_loss: 0.0068 - lr: 0.0010\n",
            "Epoch 44/200\n",
            "4181/4181 [==============================] - 124s 30ms/step - loss: 0.0055 - val_loss: 0.0069 - lr: 0.0010\n",
            "Epoch 45/200\n",
            "4181/4181 [==============================] - 125s 30ms/step - loss: 0.0054 - val_loss: 0.0069 - lr: 0.0010\n",
            "Epoch 46/200\n",
            "4181/4181 [==============================] - 128s 31ms/step - loss: 0.0054 - val_loss: 0.0069 - lr: 0.0010\n",
            "Epoch 47/200\n",
            "4181/4181 [==============================] - 126s 30ms/step - loss: 0.0054 - val_loss: 0.0072 - lr: 0.0010\n",
            "Epoch 48/200\n",
            "4181/4181 [==============================] - 125s 30ms/step - loss: 0.0051 - val_loss: 0.0067 - lr: 1.0000e-04\n",
            "Epoch 49/200\n",
            "4181/4181 [==============================] - 128s 31ms/step - loss: 0.0051 - val_loss: 0.0067 - lr: 1.0000e-04\n",
            "Epoch 50/200\n",
            "4181/4181 [==============================] - 126s 30ms/step - loss: 0.0051 - val_loss: 0.0067 - lr: 1.0000e-04\n",
            "Epoch 51/200\n",
            "4181/4181 [==============================] - 125s 30ms/step - loss: 0.0051 - val_loss: 0.0067 - lr: 1.0000e-04\n",
            "Epoch 52/200\n",
            "4181/4181 [==============================] - 129s 31ms/step - loss: 0.0051 - val_loss: 0.0068 - lr: 1.0000e-04\n",
            "Epoch 53/200\n",
            "4181/4181 [==============================] - 124s 30ms/step - loss: 0.0051 - val_loss: 0.0067 - lr: 1.0000e-04\n",
            "Epoch 54/200\n",
            "4181/4181 [==============================] - 124s 30ms/step - loss: 0.0051 - val_loss: 0.0067 - lr: 1.0000e-04\n",
            "Epoch 55/200\n",
            "4181/4181 [==============================] - 127s 30ms/step - loss: 0.0051 - val_loss: 0.0067 - lr: 1.0000e-04\n",
            "Epoch 56/200\n",
            "4181/4181 [==============================] - 123s 30ms/step - loss: 0.0051 - val_loss: 0.0067 - lr: 1.0000e-04\n",
            "Epoch 57/200\n",
            "4181/4181 [==============================] - 123s 30ms/step - loss: 0.0051 - val_loss: 0.0067 - lr: 1.0000e-04\n",
            "Epoch 58/200\n",
            "4181/4181 [==============================] - 124s 30ms/step - loss: 0.0051 - val_loss: 0.0067 - lr: 1.0000e-04\n",
            "Epoch 59/200\n",
            "4181/4181 [==============================] - 124s 30ms/step - loss: 0.0050 - val_loss: 0.0067 - lr: 1.0000e-05\n",
            "Epoch 60/200\n",
            "4181/4181 [==============================] - 124s 30ms/step - loss: 0.0050 - val_loss: 0.0067 - lr: 1.0000e-05\n",
            "Epoch 61/200\n",
            "4181/4181 [==============================] - 126s 30ms/step - loss: 0.0050 - val_loss: 0.0067 - lr: 1.0000e-05\n",
            "Epoch 62/200\n",
            "  47/4181 [..............................] - ETA: 2:29 - loss: 0.0049"
          ]
        }
      ]
    },
    {
      "cell_type": "code",
      "source": [
        "best_epoch = np.argmin(history['val_loss'])\n",
        "plt.figure(figsize=(17,4))\n",
        "plt.plot(history['loss'], label='Training loss', alpha=.8, color='#ff7f0e')\n",
        "plt.plot(history['val_loss'], label='Validation loss', alpha=.9, color='#5a9aa5')\n",
        "plt.axvline(x=best_epoch, label='Best epoch', alpha=.3, ls='--', color='#5a9aa5')\n",
        "plt.title('Mean Squared Error')\n",
        "plt.legend()\n",
        "plt.grid(alpha=.3)\n",
        "plt.show()\n",
        "\n",
        "plt.figure(figsize=(18,3))\n",
        "plt.plot(history['lr'], label='Learning Rate', alpha=.8, color='#ff7f0e')\n",
        "plt.axvline(x=best_epoch, label='Best epoch', alpha=.3, ls='--', color='#5a9aa5')\n",
        "plt.legend()\n",
        "plt.grid(alpha=.3)\n",
        "plt.show()"
      ],
      "metadata": {
        "id": "Fq_5LJc-qKwG",
        "execution": {
          "iopub.status.busy": "2023-12-17T17:33:01.233888Z",
          "iopub.execute_input": "2023-12-17T17:33:01.234144Z",
          "iopub.status.idle": "2023-12-17T17:33:01.829054Z",
          "shell.execute_reply.started": "2023-12-17T17:33:01.234121Z",
          "shell.execute_reply": "2023-12-17T17:33:01.828065Z"
        },
        "trusted": true
      },
      "execution_count": null,
      "outputs": []
    },
    {
      "cell_type": "code",
      "source": [
        "model.save('SimpleConvLSTM_3')\n",
        "del model"
      ],
      "metadata": {
        "id": "5Ru-e_mYqKy6",
        "execution": {
          "iopub.status.busy": "2023-12-17T17:33:01.830335Z",
          "iopub.execute_input": "2023-12-17T17:33:01.830704Z",
          "iopub.status.idle": "2023-12-17T17:33:21.015294Z",
          "shell.execute_reply.started": "2023-12-17T17:33:01.830669Z",
          "shell.execute_reply": "2023-12-17T17:33:21.014520Z"
        },
        "trusted": true
      },
      "execution_count": null,
      "outputs": []
    },
    {
      "cell_type": "code",
      "source": [
        "model = tfk.models.load_model('SimpleConvLSTM_3')"
      ],
      "metadata": {
        "id": "Lt5QpZKNIN2d",
        "execution": {
          "iopub.status.busy": "2023-12-17T17:33:21.020464Z",
          "iopub.execute_input": "2023-12-17T17:33:21.020826Z",
          "iopub.status.idle": "2023-12-17T17:33:28.534614Z",
          "shell.execute_reply.started": "2023-12-17T17:33:21.020800Z",
          "shell.execute_reply": "2023-12-17T17:33:28.533638Z"
        },
        "trusted": true
      },
      "execution_count": null,
      "outputs": []
    },
    {
      "cell_type": "code",
      "source": [
        "# Predict the test set using the model\n",
        "predictions = model.predict(X_test, verbose=0)\n",
        "\n",
        "# Print the shape of the predictions\n",
        "print(f\"Predictions shape: {predictions.shape}\")\n",
        "\n",
        "# Calculate and print Mean Squared Error (MSE)\n",
        "mean_squared_error = tfk.metrics.mean_squared_error(y_test.flatten(), predictions.flatten()).numpy()\n",
        "print(f\"Mean Squared Error: {mean_squared_error}\")\n",
        "\n",
        "# Calculate and print Mean Absolute Error (MAE)\n",
        "mean_absolute_error = tfk.metrics.mean_absolute_error(y_test.flatten(), predictions.flatten()).numpy()\n",
        "print(f\"Mean Absolute Error: {mean_absolute_error}\")"
      ],
      "metadata": {
        "id": "SyI0on1LqK1v",
        "execution": {
          "iopub.status.busy": "2023-12-17T17:33:28.578273Z",
          "iopub.execute_input": "2023-12-17T17:33:28.578642Z",
          "iopub.status.idle": "2023-12-17T17:33:28.710979Z",
          "shell.execute_reply.started": "2023-12-17T17:33:28.578612Z",
          "shell.execute_reply": "2023-12-17T17:33:28.709810Z"
        },
        "trusted": true
      },
      "execution_count": null,
      "outputs": []
    },
    {
      "cell_type": "code",
      "source": [
        "def inspect_multivariate_prediction(X, y, pred, telescope, idx=None):\n",
        "    if(idx==None):    # this shows input, actual labels and predicted labels (what the future he imagines is)\n",
        "        idx=np.random.randint(0,len(X))\n",
        "\n",
        "    plt.plot(np.arange(window), X[idx,:])\n",
        "    plt.plot(np.arange(window,window+telescope), y[idx,:,:], color='orange')\n",
        "    plt.plot(np.arange(window,window+telescope), pred[idx,:,:], color='green')\n",
        "    plt.ylim(0,1)\n",
        "    plt.show()\n",
        "\n",
        "# funzione modificata dal notebook, forse si può migliorare ma era solo per vedere come funziona"
      ],
      "metadata": {
        "id": "sGw9DSwdqK4v",
        "execution": {
          "iopub.status.busy": "2023-12-17T17:33:28.711937Z",
          "iopub.status.idle": "2023-12-17T17:33:28.712265Z",
          "shell.execute_reply.started": "2023-12-17T17:33:28.712105Z",
          "shell.execute_reply": "2023-12-17T17:33:28.712121Z"
        },
        "trusted": true
      },
      "execution_count": null,
      "outputs": []
    },
    {
      "cell_type": "code",
      "source": [
        "inspect_multivariate_prediction(X_test, y_test, predictions, telescope=10)"
      ],
      "metadata": {
        "id": "5SlbJeloqK7q",
        "execution": {
          "iopub.status.busy": "2023-12-17T17:33:28.713629Z",
          "iopub.status.idle": "2023-12-17T17:33:28.713980Z",
          "shell.execute_reply.started": "2023-12-17T17:33:28.713815Z",
          "shell.execute_reply": "2023-12-17T17:33:28.713832Z"
        },
        "trusted": true
      },
      "execution_count": null,
      "outputs": []
    },
    {
      "cell_type": "code",
      "source": [
        "# da questa cella in poi qualche prova mia per vedere come scrivere il file model.py in modo da ottenere i formati giusti\n",
        "X.shape"
      ],
      "metadata": {
        "id": "4DfhUbHlqLEj",
        "execution": {
          "iopub.status.busy": "2023-12-17T17:33:28.715068Z",
          "iopub.status.idle": "2023-12-17T17:33:28.715394Z",
          "shell.execute_reply.started": "2023-12-17T17:33:28.715232Z",
          "shell.execute_reply": "2023-12-17T17:33:28.715248Z"
        },
        "trusted": true
      },
      "execution_count": null,
      "outputs": []
    },
    {
      "cell_type": "code",
      "source": [
        "X1 = X[:,-45:]"
      ],
      "metadata": {
        "id": "x5XMssMZB-xR",
        "execution": {
          "iopub.status.busy": "2023-12-17T17:33:28.716528Z",
          "iopub.status.idle": "2023-12-17T17:33:28.716874Z",
          "shell.execute_reply.started": "2023-12-17T17:33:28.716715Z",
          "shell.execute_reply": "2023-12-17T17:33:28.716731Z"
        },
        "trusted": true
      },
      "execution_count": null,
      "outputs": []
    },
    {
      "cell_type": "code",
      "source": [
        "X1.shape"
      ],
      "metadata": {
        "id": "LocACErvCFtf",
        "execution": {
          "iopub.status.busy": "2023-12-17T17:33:28.718570Z",
          "iopub.status.idle": "2023-12-17T17:33:28.718985Z",
          "shell.execute_reply.started": "2023-12-17T17:33:28.718818Z",
          "shell.execute_reply": "2023-12-17T17:33:28.718835Z"
        },
        "trusted": true
      },
      "execution_count": null,
      "outputs": []
    },
    {
      "cell_type": "code",
      "source": [
        "X2 = np.expand_dims(X1, axis = 2)"
      ],
      "metadata": {
        "id": "j60q-VtACG6g",
        "execution": {
          "iopub.status.busy": "2023-12-17T17:33:28.720104Z",
          "iopub.status.idle": "2023-12-17T17:33:28.720403Z",
          "shell.execute_reply.started": "2023-12-17T17:33:28.720253Z",
          "shell.execute_reply": "2023-12-17T17:33:28.720267Z"
        },
        "trusted": true
      },
      "execution_count": null,
      "outputs": []
    },
    {
      "cell_type": "code",
      "source": [
        "X2.shape"
      ],
      "metadata": {
        "id": "DSqOHhrfCKiC",
        "execution": {
          "iopub.status.busy": "2023-12-17T17:33:28.721786Z",
          "iopub.status.idle": "2023-12-17T17:33:28.722106Z",
          "shell.execute_reply.started": "2023-12-17T17:33:28.721946Z",
          "shell.execute_reply": "2023-12-17T17:33:28.721962Z"
        },
        "trusted": true
      },
      "execution_count": null,
      "outputs": []
    },
    {
      "cell_type": "code",
      "source": [
        "y2 = model.predict(X2, verbose = 0)"
      ],
      "metadata": {
        "id": "yo8LjVJ0Ci1Y",
        "execution": {
          "iopub.status.busy": "2023-12-17T17:33:28.723316Z",
          "iopub.status.idle": "2023-12-17T17:33:28.723666Z",
          "shell.execute_reply.started": "2023-12-17T17:33:28.723475Z",
          "shell.execute_reply": "2023-12-17T17:33:28.723491Z"
        },
        "trusted": true
      },
      "execution_count": null,
      "outputs": []
    },
    {
      "cell_type": "code",
      "source": [
        "y2.shape"
      ],
      "metadata": {
        "id": "ztDyZ7SYsYdq",
        "execution": {
          "iopub.status.busy": "2023-12-17T17:33:28.724996Z",
          "iopub.status.idle": "2023-12-17T17:33:28.725325Z",
          "shell.execute_reply.started": "2023-12-17T17:33:28.725163Z",
          "shell.execute_reply": "2023-12-17T17:33:28.725179Z"
        },
        "trusted": true
      },
      "execution_count": null,
      "outputs": []
    },
    {
      "cell_type": "code",
      "source": [
        "for w in range(9):    # questo era per autoregressive, ma sembra funzionare meglio il direct\n",
        "  X3 = np.append(X2,y2,axis=1)\n",
        "  X3 = np.delete(X3,0,axis=1)\n",
        "  y3 = model.predict(X3)\n",
        "  y2 = y3\n",
        "  X2 = X3"
      ],
      "metadata": {
        "id": "Z1FMB25drbVo",
        "execution": {
          "iopub.status.busy": "2023-12-17T17:33:28.726389Z",
          "iopub.status.idle": "2023-12-17T17:33:28.726734Z",
          "shell.execute_reply.started": "2023-12-17T17:33:28.726537Z",
          "shell.execute_reply": "2023-12-17T17:33:28.726551Z"
        },
        "trusted": true
      },
      "execution_count": null,
      "outputs": []
    },
    {
      "cell_type": "code",
      "source": [
        "X2.shape"
      ],
      "metadata": {
        "id": "S4kI17FoCnBc",
        "execution": {
          "iopub.status.busy": "2023-12-17T17:33:28.728212Z",
          "iopub.status.idle": "2023-12-17T17:33:28.728535Z",
          "shell.execute_reply.started": "2023-12-17T17:33:28.728375Z",
          "shell.execute_reply": "2023-12-17T17:33:28.728391Z"
        },
        "trusted": true
      },
      "execution_count": null,
      "outputs": []
    },
    {
      "cell_type": "code",
      "source": [
        "X4 = X2[:,-9:,:]"
      ],
      "metadata": {
        "id": "8xnyexh3CvWp",
        "execution": {
          "iopub.status.busy": "2023-12-17T17:33:28.729507Z",
          "iopub.status.idle": "2023-12-17T17:33:28.729860Z",
          "shell.execute_reply.started": "2023-12-17T17:33:28.729698Z",
          "shell.execute_reply": "2023-12-17T17:33:28.729714Z"
        },
        "trusted": true
      },
      "execution_count": null,
      "outputs": []
    },
    {
      "cell_type": "code",
      "source": [
        "X5 = np.squeeze(X4, axis=2)"
      ],
      "metadata": {
        "id": "kMd6Z2cODAC9",
        "execution": {
          "iopub.status.busy": "2023-12-17T17:33:28.733196Z",
          "iopub.status.idle": "2023-12-17T17:33:28.733713Z",
          "shell.execute_reply.started": "2023-12-17T17:33:28.733431Z",
          "shell.execute_reply": "2023-12-17T17:33:28.733455Z"
        },
        "trusted": true
      },
      "execution_count": null,
      "outputs": []
    },
    {
      "cell_type": "code",
      "source": [
        "X5.shape"
      ],
      "metadata": {
        "id": "4WW1n3QADfos",
        "execution": {
          "iopub.status.busy": "2023-12-17T17:33:28.735259Z",
          "iopub.status.idle": "2023-12-17T17:33:28.735707Z",
          "shell.execute_reply.started": "2023-12-17T17:33:28.735463Z",
          "shell.execute_reply": "2023-12-17T17:33:28.735484Z"
        },
        "trusted": true
      },
      "execution_count": null,
      "outputs": []
    },
    {
      "cell_type": "code",
      "source": [],
      "metadata": {
        "id": "aVTIekPkl4Sa"
      },
      "execution_count": null,
      "outputs": []
    },
    {
      "cell_type": "code",
      "source": [
        "y2"
      ],
      "metadata": {
        "id": "FBw8dX2gl4Vx",
        "execution": {
          "iopub.status.busy": "2023-12-17T17:33:28.737290Z",
          "iopub.status.idle": "2023-12-17T17:33:28.737749Z",
          "shell.execute_reply.started": "2023-12-17T17:33:28.737499Z",
          "shell.execute_reply": "2023-12-17T17:33:28.737520Z"
        },
        "trusted": true
      },
      "execution_count": null,
      "outputs": []
    },
    {
      "cell_type": "code",
      "source": [
        "X_test[,:,].append(y2)"
      ],
      "metadata": {
        "id": "8OXBA7F9DgnP",
        "execution": {
          "iopub.status.busy": "2023-12-17T17:33:28.738788Z",
          "iopub.status.idle": "2023-12-17T17:33:28.739221Z",
          "shell.execute_reply.started": "2023-12-17T17:33:28.738988Z",
          "shell.execute_reply": "2023-12-17T17:33:28.739008Z"
        },
        "trusted": true
      },
      "execution_count": null,
      "outputs": []
    },
    {
      "cell_type": "code",
      "source": [
        "X_test.shape"
      ],
      "metadata": {
        "id": "kFMkORCfl_iJ",
        "execution": {
          "iopub.status.busy": "2023-12-17T17:33:28.740241Z",
          "iopub.status.idle": "2023-12-17T17:33:28.740680Z",
          "shell.execute_reply.started": "2023-12-17T17:33:28.740442Z",
          "shell.execute_reply": "2023-12-17T17:33:28.740463Z"
        },
        "trusted": true
      },
      "execution_count": null,
      "outputs": []
    },
    {
      "cell_type": "code",
      "source": [
        "y2.shape"
      ],
      "metadata": {
        "id": "Rf--AJnfmNnO",
        "execution": {
          "iopub.status.busy": "2023-12-17T17:33:28.742004Z",
          "iopub.status.idle": "2023-12-17T17:33:28.742347Z",
          "shell.execute_reply.started": "2023-12-17T17:33:28.742176Z",
          "shell.execute_reply": "2023-12-17T17:33:28.742193Z"
        },
        "trusted": true
      },
      "execution_count": null,
      "outputs": []
    },
    {
      "cell_type": "code",
      "source": [
        "X_test1 = np.append(X_test,y2,axis=1)"
      ],
      "metadata": {
        "id": "LPaz3LKOmjms",
        "execution": {
          "iopub.status.busy": "2023-12-17T17:33:28.743535Z",
          "iopub.status.idle": "2023-12-17T17:33:28.743888Z",
          "shell.execute_reply.started": "2023-12-17T17:33:28.743734Z",
          "shell.execute_reply": "2023-12-17T17:33:28.743750Z"
        },
        "trusted": true
      },
      "execution_count": null,
      "outputs": []
    },
    {
      "cell_type": "code",
      "source": [
        "X_test1.shape"
      ],
      "metadata": {
        "id": "OgZsKngYm2kv",
        "execution": {
          "iopub.status.busy": "2023-12-17T17:33:28.744948Z",
          "iopub.status.idle": "2023-12-17T17:33:28.745275Z",
          "shell.execute_reply.started": "2023-12-17T17:33:28.745112Z",
          "shell.execute_reply": "2023-12-17T17:33:28.745128Z"
        },
        "trusted": true
      },
      "execution_count": null,
      "outputs": []
    },
    {
      "cell_type": "code",
      "source": [
        "y1 ="
      ],
      "metadata": {
        "id": "dktC6FEOm31C",
        "execution": {
          "iopub.status.busy": "2023-12-17T17:33:28.746555Z",
          "iopub.status.idle": "2023-12-17T17:33:28.746994Z",
          "shell.execute_reply.started": "2023-12-17T17:33:28.746775Z",
          "shell.execute_reply": "2023-12-17T17:33:28.746796Z"
        },
        "trusted": true
      },
      "execution_count": null,
      "outputs": []
    },
    {
      "cell_type": "code",
      "source": [
        "from IPython.display import FileLink\n",
        "FileLink(r'SimpleConvLSTM_3')\n",
        "\n"
      ],
      "metadata": {
        "execution": {
          "iopub.status.busy": "2023-12-17T17:38:51.896959Z",
          "iopub.execute_input": "2023-12-17T17:38:51.897574Z",
          "iopub.status.idle": "2023-12-17T17:38:51.986180Z",
          "shell.execute_reply.started": "2023-12-17T17:38:51.897540Z",
          "shell.execute_reply": "2023-12-17T17:38:51.984997Z"
        },
        "trusted": true,
        "id": "XEd465V5-6Rt"
      },
      "execution_count": null,
      "outputs": []
    },
    {
      "cell_type": "code",
      "source": [],
      "metadata": {
        "id": "8QjIeoZJ-6Rt"
      },
      "execution_count": null,
      "outputs": []
    }
  ]
}