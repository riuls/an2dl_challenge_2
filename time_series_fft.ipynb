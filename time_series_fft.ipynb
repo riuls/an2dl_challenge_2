{
  "metadata": {
    "colab": {
      "provenance": [],
      "gpuType": "T4",
      "include_colab_link": true
    },
    "kernelspec": {
      "name": "python3",
      "display_name": "Python 3"
    },
    "language_info": {
      "name": "python",
      "version": "3.10.12",
      "mimetype": "text/x-python",
      "codemirror_mode": {
        "name": "ipython",
        "version": 3
      },
      "pygments_lexer": "ipython3",
      "nbconvert_exporter": "python",
      "file_extension": ".py"
    },
    "accelerator": "GPU",
    "kaggle": {
      "accelerator": "nvidiaTeslaT4",
      "dataSources": [
        {
          "sourceId": 7218526,
          "sourceType": "datasetVersion",
          "datasetId": 4177830
        }
      ],
      "dockerImageVersionId": 30627,
      "isInternetEnabled": true,
      "language": "python",
      "sourceType": "notebook",
      "isGpuEnabled": true
    }
  },
  "nbformat_minor": 0,
  "nbformat": 4,
  "cells": [
    {
      "cell_type": "markdown",
      "metadata": {
        "id": "view-in-github",
        "colab_type": "text"
      },
      "source": [
        "<a href=\"https://colab.research.google.com/github/riuls/an2dl_challenge_2/blob/luis/time_series_fft.ipynb\" target=\"_parent\"><img src=\"https://colab.research.google.com/assets/colab-badge.svg\" alt=\"Open In Colab\"/></a>"
      ]
    },
    {
      "cell_type": "code",
      "source": [
        "from google.colab import drive\n",
        "drive.mount('/content/drive')\n",
        "%cd /content/drive/MyDrive/an2dl_challenge_2"
      ],
      "metadata": {
        "colab": {
          "base_uri": "https://localhost:8080/"
        },
        "id": "X7NR2Oe9oLRD",
        "outputId": "35d5671b-10a3-4875-b554-bb74f2541c7f",
        "execution": {
          "iopub.status.busy": "2023-12-17T15:13:49.287415Z",
          "iopub.execute_input": "2023-12-17T15:13:49.288481Z",
          "iopub.status.idle": "2023-12-17T15:13:49.293058Z",
          "shell.execute_reply.started": "2023-12-17T15:13:49.288435Z",
          "shell.execute_reply": "2023-12-17T15:13:49.291939Z"
        },
        "trusted": true
      },
      "execution_count": null,
      "outputs": [
        {
          "output_type": "stream",
          "name": "stdout",
          "text": [
            "Mounted at /content/drive\n",
            "/content/drive/MyDrive/an2dl_challenge_2\n"
          ]
        }
      ]
    },
    {
      "cell_type": "code",
      "source": [
        "#import os\n",
        "#os.listdir('/kaggle/input/')\n",
        "#%cd /kaggle/working/"
      ],
      "metadata": {
        "execution": {
          "iopub.status.busy": "2023-12-17T15:13:49.295187Z",
          "iopub.execute_input": "2023-12-17T15:13:49.295550Z",
          "iopub.status.idle": "2023-12-17T15:13:49.304879Z",
          "shell.execute_reply.started": "2023-12-17T15:13:49.295515Z",
          "shell.execute_reply": "2023-12-17T15:13:49.303893Z"
        },
        "trusted": true,
        "id": "mjWJjYNuTgSF"
      },
      "execution_count": null,
      "outputs": []
    },
    {
      "cell_type": "code",
      "source": [
        "# Fix randomness and hide warnings\n",
        "seed = 42\n",
        "\n",
        "import os\n",
        "os.environ['TF_CPP_MIN_LOG_LEVEL'] = '3'\n",
        "os.environ['PYTHONHASHSEED'] = str(seed)\n",
        "os.environ['MPLCONFIGDIR'] = os.getcwd()+'/configs/'\n",
        "\n",
        "import warnings\n",
        "warnings.simplefilter(action='ignore', category=FutureWarning)\n",
        "warnings.simplefilter(action='ignore', category=Warning)\n",
        "\n",
        "import numpy as np\n",
        "np.random.seed(seed)\n",
        "\n",
        "import logging\n",
        "\n",
        "import random\n",
        "random.seed(seed)"
      ],
      "metadata": {
        "id": "cdQqdMhFoYno",
        "execution": {
          "iopub.status.busy": "2023-12-17T15:13:49.306203Z",
          "iopub.execute_input": "2023-12-17T15:13:49.306539Z",
          "iopub.status.idle": "2023-12-17T15:13:49.313717Z",
          "shell.execute_reply.started": "2023-12-17T15:13:49.306508Z",
          "shell.execute_reply": "2023-12-17T15:13:49.312651Z"
        },
        "trusted": true
      },
      "execution_count": null,
      "outputs": []
    },
    {
      "cell_type": "code",
      "source": [
        "# Import tensorflow\n",
        "import tensorflow as tf\n",
        "from tensorflow import keras as tfk\n",
        "from tensorflow.keras import layers as tfkl\n",
        "tf.autograph.set_verbosity(0)\n",
        "tf.get_logger().setLevel(logging.ERROR)\n",
        "tf.compat.v1.logging.set_verbosity(tf.compat.v1.logging.ERROR)\n",
        "tf.random.set_seed(seed)\n",
        "tf.compat.v1.set_random_seed(seed)\n",
        "print(tf.__version__)"
      ],
      "metadata": {
        "colab": {
          "base_uri": "https://localhost:8080/"
        },
        "id": "mIE0enxNoYqP",
        "outputId": "aea8f20f-5b42-461e-8257-ebce5209c78c",
        "execution": {
          "iopub.status.busy": "2023-12-17T15:13:49.315387Z",
          "iopub.execute_input": "2023-12-17T15:13:49.315971Z",
          "iopub.status.idle": "2023-12-17T15:13:49.332620Z",
          "shell.execute_reply.started": "2023-12-17T15:13:49.315937Z",
          "shell.execute_reply": "2023-12-17T15:13:49.331799Z"
        },
        "trusted": true
      },
      "execution_count": null,
      "outputs": [
        {
          "output_type": "stream",
          "name": "stdout",
          "text": [
            "2.15.0\n"
          ]
        }
      ]
    },
    {
      "cell_type": "code",
      "source": [
        "import pandas as pd\n",
        "import seaborn as sns\n",
        "from datetime import datetime\n",
        "import matplotlib.pyplot as plt\n",
        "plt.rc('font', size=16)\n",
        "from sklearn.preprocessing import MinMaxScaler"
      ],
      "metadata": {
        "id": "2zhN83IhoYtB",
        "execution": {
          "iopub.status.busy": "2023-12-17T15:13:49.334820Z",
          "iopub.execute_input": "2023-12-17T15:13:49.335112Z",
          "iopub.status.idle": "2023-12-17T15:13:49.342079Z",
          "shell.execute_reply.started": "2023-12-17T15:13:49.335088Z",
          "shell.execute_reply": "2023-12-17T15:13:49.341189Z"
        },
        "trusted": true
      },
      "execution_count": null,
      "outputs": []
    },
    {
      "cell_type": "code",
      "source": [
        "dataset = np.load('training_data.npy')\n",
        "periods = np.load('valid_periods.npy')\n",
        "cat = np.load('categories.npy')\n",
        "print(dataset.shape)\n",
        "print(periods.shape)\n",
        "print(cat.shape)"
      ],
      "metadata": {
        "colab": {
          "base_uri": "https://localhost:8080/"
        },
        "id": "dRAoKWIHoYvu",
        "outputId": "efc3b665-92e4-4299-cd55-37eff1493ebe",
        "execution": {
          "iopub.status.busy": "2023-12-17T15:13:49.343042Z",
          "iopub.execute_input": "2023-12-17T15:13:49.343274Z",
          "iopub.status.idle": "2023-12-17T15:13:49.735315Z",
          "shell.execute_reply.started": "2023-12-17T15:13:49.343253Z",
          "shell.execute_reply": "2023-12-17T15:13:49.734434Z"
        },
        "trusted": true
      },
      "execution_count": null,
      "outputs": [
        {
          "output_type": "stream",
          "name": "stdout",
          "text": [
            "(48000, 2776)\n",
            "(48000, 2)\n",
            "(48000,)\n"
          ]
        }
      ]
    },
    {
      "cell_type": "code",
      "source": [
        "X = []\n",
        "y = []\n",
        "window = 40\n",
        "telescope = 9\n",
        "stride = 8\n",
        "for i in range(dataset.shape[0]):\n",
        "  j = periods[i,0]\n",
        "  while(j+window+telescope < periods[i,1]):\n",
        "    X.append(dataset[i,j:j+window])\n",
        "    y.append(dataset[i,j+window:j+window+telescope])\n",
        "    j = j+stride"
      ],
      "metadata": {
        "id": "rGMQcgB_BkLZ",
        "execution": {
          "iopub.status.busy": "2023-12-17T15:13:49.736533Z",
          "iopub.execute_input": "2023-12-17T15:13:49.736802Z",
          "iopub.status.idle": "2023-12-17T15:13:50.656628Z",
          "shell.execute_reply.started": "2023-12-17T15:13:49.736779Z",
          "shell.execute_reply": "2023-12-17T15:13:50.655637Z"
        },
        "trusted": true
      },
      "execution_count": null,
      "outputs": []
    },
    {
      "cell_type": "code",
      "source": [
        "X = np.array(X)\n",
        "y = np.array(y)\n",
        "X.shape, y.shape"
      ],
      "metadata": {
        "colab": {
          "base_uri": "https://localhost:8080/"
        },
        "id": "enKRpiZBD7xM",
        "outputId": "6d9548f9-a4a2-497a-b15b-dcc8946e8009",
        "execution": {
          "iopub.status.busy": "2023-12-17T15:13:50.657849Z",
          "iopub.execute_input": "2023-12-17T15:13:50.658112Z",
          "iopub.status.idle": "2023-12-17T15:13:51.134519Z",
          "shell.execute_reply.started": "2023-12-17T15:13:50.658089Z",
          "shell.execute_reply": "2023-12-17T15:13:51.133619Z"
        },
        "trusted": true
      },
      "execution_count": null,
      "outputs": [
        {
          "output_type": "execute_result",
          "data": {
            "text/plain": [
              "((915096, 40), (915096, 9))"
            ]
          },
          "metadata": {},
          "execution_count": 8
        }
      ]
    },
    {
      "cell_type": "code",
      "source": [
        "import numpy as np\n",
        "\n",
        "def estimate_sampling_rate(time_series):\n",
        "    # Sort the time series data if it's not already sorted\n",
        "    sorted_indices = np.argsort(time_series)\n",
        "    time_series_sorted = time_series[sorted_indices]\n",
        "\n",
        "    # Calculate time intervals\n",
        "    time_intervals = np.mean(np.diff(time_series_sorted))\n",
        "\n",
        "    # Calculate sampling rate\n",
        "    sampling_rate = 1 / time_intervals\n",
        "    return sampling_rate\n",
        "\n",
        "# Assuming your time series data is in a NumPy array named 'X'\n",
        "time_series = X[:, 0]  # Assuming the first column represents time\n",
        "\n",
        "# Estimate sampling rate\n",
        "sampling_rate = estimate_sampling_rate(time_series)\n",
        "\n",
        "print(f\"Estimated Sampling Rate: {sampling_rate} Hz\")\n"
      ],
      "metadata": {
        "colab": {
          "base_uri": "https://localhost:8080/"
        },
        "id": "UEFM1F3o1oeq",
        "outputId": "e041f74b-37fa-46c1-a32f-a2f45f0d10cb"
      },
      "execution_count": null,
      "outputs": [
        {
          "output_type": "stream",
          "name": "stdout",
          "text": [
            "Estimated Sampling Rate: 915095.0000000001 Hz\n"
          ]
        }
      ]
    },
    {
      "cell_type": "code",
      "source": [
        "import numpy as np\n",
        "\n",
        "def get_frequency_indices(sampling_rate, num_samples):\n",
        "    freq_values = np.fft.fftfreq(num_samples, d=1/sampling_rate)\n",
        "    return np.fft.fftshift(freq_values)\n",
        "\n",
        "def find_cutoff_indices(freq_values, cutoff_low, cutoff_high):\n",
        "    return np.where((freq_values >= cutoff_low) & (freq_values <= cutoff_high))\n",
        "\n",
        "def cutoff_frequencies(X, cutoff_low, cutoff_high):\n",
        "    num_samples = X.shape[0]  # Assuming the time series is along the first axis\n",
        "    sampling_rate = 1.0 / (X[1, 0] - X[0, 0])  # Calculate sampling rate based on time intervals\n",
        "\n",
        "    freq_values = get_frequency_indices(sampling_rate, num_samples)\n",
        "    cutoff_indices = find_cutoff_indices(freq_values, cutoff_low, cutoff_high)\n",
        "\n",
        "    selected_frequencies = freq_values[cutoff_indices]\n",
        "\n",
        "    return selected_frequencies\n",
        "\n",
        "\n",
        "cutoff_low = 0\n",
        "cutoff_high = 0.4\n",
        "\n",
        "selected_frequencies = cutoff_frequencies(X, cutoff_low, cutoff_high)\n",
        "\n",
        "print(\"Selected Frequencies:\", selected_frequencies)\n",
        "\n"
      ],
      "metadata": {
        "colab": {
          "base_uri": "https://localhost:8080/"
        },
        "id": "9FUdL3tx4EfR",
        "outputId": "ba5234a1-ac6c-4f77-9513-d19c07e3ffe1"
      },
      "execution_count": null,
      "outputs": [
        {
          "output_type": "stream",
          "name": "stdout",
          "text": [
            "Selected Frequencies: [ 3.99998386e-01  3.99988299e-01  3.99978212e-01 ...  2.01744281e-05\n",
            "  1.00872141e-05 -0.00000000e+00]\n"
          ]
        }
      ]
    },
    {
      "cell_type": "code",
      "source": [
        "import numpy as np\n",
        "from scipy.fft import fft, ifft\n",
        "\n",
        "def fft_filter(time_series, sampling_rate, freq_cutoff_low, freq_cutoff_high):\n",
        "    # Perform FFT\n",
        "    fft_result = fft(time_series)\n",
        "\n",
        "    # Get frequencies corresponding to FFT result\n",
        "    frequencies = np.fft.fftfreq(len(fft_result), d=1/sampling_rate)\n",
        "\n",
        "    # Create a mask for the frequencies to keep\n",
        "    freq_mask = (np.abs(frequencies) >= freq_cutoff_low) & (np.abs(frequencies) <= freq_cutoff_high)\n",
        "\n",
        "    # Expand the dimensions of the mask to match the FFT result shape\n",
        "    freq_mask_expanded = np.expand_dims(freq_mask, axis=1)\n",
        "\n",
        "    # Apply the mask to the FFT result\n",
        "    fft_result_filtered = fft_result * freq_mask_expanded\n",
        "\n",
        "    # Perform iFFT to get back to the time domain\n",
        "    time_series_filtered = ifft(fft_result_filtered).real\n",
        "\n",
        "    return time_series_filtered\n",
        "\n",
        "# Replace the parameters with your actual values\n",
        "# freq_cutoff_low and freq_cutoff_high define the range of frequencies to keep\n",
        "filtered_series = fft_filter(X, sampling_rate, cutoff_low, cutoff_high)\n",
        "X = filtered_series"
      ],
      "metadata": {
        "id": "3nSoYJaLuDcL"
      },
      "execution_count": null,
      "outputs": []
    },
    {
      "cell_type": "code",
      "source": [
        "X_train, X_test = np.split(X,[880000])\n",
        "y_train, y_test = np.split(y,[880000])\n",
        "print(X_train.shape,y_train.shape,X_test.shape,y_test.shape)"
      ],
      "metadata": {
        "id": "kVZRa4I0oY61",
        "colab": {
          "base_uri": "https://localhost:8080/"
        },
        "outputId": "87c4904c-49b4-4bc8-f258-332d8ed9a76f",
        "execution": {
          "iopub.status.busy": "2023-12-17T15:13:51.615503Z",
          "iopub.execute_input": "2023-12-17T15:13:51.616118Z",
          "iopub.status.idle": "2023-12-17T15:13:51.621789Z",
          "shell.execute_reply.started": "2023-12-17T15:13:51.616089Z",
          "shell.execute_reply": "2023-12-17T15:13:51.620940Z"
        },
        "trusted": true
      },
      "execution_count": null,
      "outputs": [
        {
          "output_type": "stream",
          "name": "stdout",
          "text": [
            "(880000, 40) (880000, 9) (35096, 40) (35096, 9)\n"
          ]
        }
      ]
    },
    {
      "cell_type": "code",
      "source": [
        "X_train = np.expand_dims(X_train,axis=2)\n",
        "X_train.shape"
      ],
      "metadata": {
        "colab": {
          "base_uri": "https://localhost:8080/"
        },
        "id": "XG0k3Kj1KcoV",
        "outputId": "90e6100f-cbef-4e35-8ed6-c0c06d36e914",
        "execution": {
          "iopub.status.busy": "2023-12-17T15:14:57.154463Z",
          "iopub.execute_input": "2023-12-17T15:14:57.154760Z",
          "iopub.status.idle": "2023-12-17T15:14:57.161960Z",
          "shell.execute_reply.started": "2023-12-17T15:14:57.154733Z",
          "shell.execute_reply": "2023-12-17T15:14:57.160957Z"
        },
        "trusted": true
      },
      "execution_count": null,
      "outputs": [
        {
          "output_type": "execute_result",
          "data": {
            "text/plain": [
              "(880000, 40, 1)"
            ]
          },
          "metadata": {},
          "execution_count": 14
        }
      ]
    },
    {
      "cell_type": "code",
      "source": [
        "y_train = np.expand_dims(y_train,axis=2)\n",
        "y_train.shape"
      ],
      "metadata": {
        "colab": {
          "base_uri": "https://localhost:8080/"
        },
        "id": "kybLhTLkzll9",
        "outputId": "c654d105-c5ed-437d-adb2-766d464f6cf1",
        "execution": {
          "iopub.status.busy": "2023-12-17T15:14:57.163419Z",
          "iopub.execute_input": "2023-12-17T15:14:57.164419Z",
          "iopub.status.idle": "2023-12-17T15:14:57.176727Z",
          "shell.execute_reply.started": "2023-12-17T15:14:57.164371Z",
          "shell.execute_reply": "2023-12-17T15:14:57.175672Z"
        },
        "trusted": true
      },
      "execution_count": null,
      "outputs": [
        {
          "output_type": "execute_result",
          "data": {
            "text/plain": [
              "(880000, 9, 1)"
            ]
          },
          "metadata": {},
          "execution_count": 15
        }
      ]
    },
    {
      "cell_type": "code",
      "source": [
        "y_test = np.expand_dims(y_test,axis=2)\n",
        "y_test.shape"
      ],
      "metadata": {
        "colab": {
          "base_uri": "https://localhost:8080/"
        },
        "id": "uM4PCdalGE65",
        "outputId": "9d8db324-3a0b-48f9-a098-5e4d9f504a52",
        "execution": {
          "iopub.status.busy": "2023-12-17T15:14:57.177925Z",
          "iopub.execute_input": "2023-12-17T15:14:57.178176Z",
          "iopub.status.idle": "2023-12-17T15:14:57.188249Z",
          "shell.execute_reply.started": "2023-12-17T15:14:57.178154Z",
          "shell.execute_reply": "2023-12-17T15:14:57.187287Z"
        },
        "trusted": true
      },
      "execution_count": null,
      "outputs": [
        {
          "output_type": "execute_result",
          "data": {
            "text/plain": [
              "(35096, 9, 1)"
            ]
          },
          "metadata": {},
          "execution_count": 16
        }
      ]
    },
    {
      "cell_type": "code",
      "source": [
        "X_test = np.expand_dims(X_test,axis=2)\n",
        "X_test.shape"
      ],
      "metadata": {
        "colab": {
          "base_uri": "https://localhost:8080/"
        },
        "id": "ogaOP9plGFDD",
        "outputId": "c5d3f522-b930-4100-8d93-e28cc8cb6899",
        "execution": {
          "iopub.status.busy": "2023-12-17T15:14:57.189521Z",
          "iopub.execute_input": "2023-12-17T15:14:57.189950Z",
          "iopub.status.idle": "2023-12-17T15:14:57.200098Z",
          "shell.execute_reply.started": "2023-12-17T15:14:57.189922Z",
          "shell.execute_reply": "2023-12-17T15:14:57.199022Z"
        },
        "trusted": true
      },
      "execution_count": null,
      "outputs": [
        {
          "output_type": "execute_result",
          "data": {
            "text/plain": [
              "(35096, 40, 1)"
            ]
          },
          "metadata": {},
          "execution_count": 17
        }
      ]
    },
    {
      "cell_type": "code",
      "source": [
        "input_shape = X_train.shape[1:]\n",
        "output_shape = y_train.shape[1:]\n",
        "batch_size = 64\n",
        "epochs = 200"
      ],
      "metadata": {
        "id": "reGYD8_Gpl3C",
        "execution": {
          "iopub.status.busy": "2023-12-17T15:14:57.201192Z",
          "iopub.execute_input": "2023-12-17T15:14:57.201496Z",
          "iopub.status.idle": "2023-12-17T15:14:57.208856Z",
          "shell.execute_reply.started": "2023-12-17T15:14:57.201462Z",
          "shell.execute_reply": "2023-12-17T15:14:57.208035Z"
        },
        "trusted": true
      },
      "execution_count": null,
      "outputs": []
    },
    {
      "cell_type": "code",
      "source": [
        "input_shape,output_shape"
      ],
      "metadata": {
        "colab": {
          "base_uri": "https://localhost:8080/"
        },
        "id": "tIqLWTbv2jyZ",
        "outputId": "52679bbc-308f-4751-a727-f91412d2a56f",
        "execution": {
          "iopub.status.busy": "2023-12-17T15:14:57.209751Z",
          "iopub.execute_input": "2023-12-17T15:14:57.209998Z",
          "iopub.status.idle": "2023-12-17T15:14:57.220684Z",
          "shell.execute_reply.started": "2023-12-17T15:14:57.209976Z",
          "shell.execute_reply": "2023-12-17T15:14:57.219853Z"
        },
        "trusted": true
      },
      "execution_count": null,
      "outputs": [
        {
          "output_type": "execute_result",
          "data": {
            "text/plain": [
              "((40, 1), (9, 1))"
            ]
          },
          "metadata": {},
          "execution_count": 19
        }
      ]
    },
    {
      "cell_type": "code",
      "source": [
        "def build_LSTM_model(input_shape, output_shape):\n",
        "    # Ensure the input time steps are at least as many as the output time steps\n",
        "    assert input_shape[0] >= output_shape[0], \"For this exercise we want input time steps to be >= of output time steps\"\n",
        "\n",
        "    # Define the input layer with the specified shape\n",
        "    input_layer = tfkl.Input(shape=input_shape, name='input_layer')\n",
        "\n",
        "    # Add a Bidirectional LSTM layer with 32 units, return true very important, I want a sequence\n",
        "    x = tfkl.Bidirectional(tfkl.LSTM(32, return_sequences=True, name='lstm'), name='bidirectional_lstm1')(input_layer)\n",
        "    x = tfkl.Bidirectional(tfkl.LSTM(32, return_sequences=True, name='lstm'), name='bidirectional_lstm2')(x)\n",
        "\n",
        "    # Add a 1D Convolution layer with 128 filters and a kernel size of 3\n",
        "    x = tfkl.Conv1D(128, 3, padding='same', activation='relu', name='conv')(x)\n",
        "\n",
        "    # Add a final Convolution layer to match the desired output shape\n",
        "    output_layer = tfkl.Conv1D(output_shape[1], 3, padding='same', name='output_layer')(x)\n",
        "\n",
        "    # Calculate the size to crop from the output to match the output shape: very important because bilstm gives me same sequence length*2, so it gives me 100. But I want 50, so I need to crop, I want a telescope size\n",
        "    crop_size = output_layer.shape[1] - output_shape[0]\n",
        "\n",
        "    # Crop the output to the desired length: I take only cropped last\n",
        "    output_layer = tfkl.Cropping1D((0, crop_size), name='cropping')(output_layer)\n",
        "\n",
        "    # Construct the model by connecting input and output layers\n",
        "    model = tf.keras.Model(inputs=input_layer, outputs=output_layer, name='CONV_LSTM_model')\n",
        "\n",
        "    # Construct the model by connecting input and output layers\n",
        "    model = tf.keras.Model(inputs=input_layer, outputs=output_layer, name='CONV_LSTM_model')\n",
        "\n",
        "    # Compile the model with Mean Squared Error loss and Adam optimizer\n",
        "    model.compile(loss=tf.keras.losses.MeanSquaredError(), optimizer=tf.keras.optimizers.AdamW())\n",
        "\n",
        "    return model"
      ],
      "metadata": {
        "id": "B8hyRASFqKnY",
        "execution": {
          "iopub.status.busy": "2023-12-17T15:14:57.221885Z",
          "iopub.execute_input": "2023-12-17T15:14:57.222133Z",
          "iopub.status.idle": "2023-12-17T15:14:57.231896Z",
          "shell.execute_reply.started": "2023-12-17T15:14:57.222111Z",
          "shell.execute_reply": "2023-12-17T15:14:57.231004Z"
        },
        "trusted": true
      },
      "execution_count": null,
      "outputs": []
    },
    {
      "cell_type": "code",
      "source": [
        "model = build_LSTM_model(input_shape, output_shape)\n",
        "model.summary()\n",
        "tfk.utils.plot_model(model, expand_nested=True, show_shapes=True)"
      ],
      "metadata": {
        "id": "S67hWoOjqKqQ",
        "colab": {
          "base_uri": "https://localhost:8080/",
          "height": 1000
        },
        "outputId": "ce9679cd-cc18-4fe6-bf44-30781238f471",
        "execution": {
          "iopub.status.busy": "2023-12-17T15:14:57.232913Z",
          "iopub.execute_input": "2023-12-17T15:14:57.233190Z",
          "iopub.status.idle": "2023-12-17T15:14:58.353545Z",
          "shell.execute_reply.started": "2023-12-17T15:14:57.233167Z",
          "shell.execute_reply": "2023-12-17T15:14:58.352620Z"
        },
        "trusted": true
      },
      "execution_count": null,
      "outputs": [
        {
          "output_type": "stream",
          "name": "stdout",
          "text": [
            "Model: \"CONV_LSTM_model\"\n",
            "_________________________________________________________________\n",
            " Layer (type)                Output Shape              Param #   \n",
            "=================================================================\n",
            " input_layer (InputLayer)    [(None, 40, 1)]           0         \n",
            "                                                                 \n",
            " bidirectional_lstm1 (Bidir  (None, 40, 64)            8704      \n",
            " ectional)                                                       \n",
            "                                                                 \n",
            " bidirectional_lstm2 (Bidir  (None, 40, 64)            24832     \n",
            " ectional)                                                       \n",
            "                                                                 \n",
            " conv (Conv1D)               (None, 40, 128)           24704     \n",
            "                                                                 \n",
            " output_layer (Conv1D)       (None, 40, 1)             385       \n",
            "                                                                 \n",
            " cropping (Cropping1D)       (None, 9, 1)              0         \n",
            "                                                                 \n",
            "=================================================================\n",
            "Total params: 58625 (229.00 KB)\n",
            "Trainable params: 58625 (229.00 KB)\n",
            "Non-trainable params: 0 (0.00 Byte)\n",
            "_________________________________________________________________\n"
          ]
        },
        {
          "output_type": "execute_result",
          "data": {
            "image/png": "[encoded data removed]",
            "text/plain": [
              "<IPython.core.display.Image object>"
            ]
          },
          "metadata": {},
          "execution_count": 21
        }
      ]
    },
    {
      "cell_type": "code",
      "source": [
        "# Train the model\n",
        "history = model.fit(\n",
        "    x = X_train,\n",
        "    y = y_train,\n",
        "    batch_size = batch_size,\n",
        "    epochs = epochs,\n",
        "    validation_split=.1,\n",
        "    callbacks = [\n",
        "        tfk.callbacks.EarlyStopping(monitor='val_loss', mode='min', patience=12, restore_best_weights=True),\n",
        "        tfk.callbacks.ReduceLROnPlateau(monitor='val_loss', mode='min', patience=10, factor=0.1, min_lr=1e-5)\n",
        "    ]\n",
        ").history"
      ],
      "metadata": {
        "id": "usXNfKBgqKtI",
        "colab": {
          "base_uri": "https://localhost:8080/"
        },
        "outputId": "6c5fe5a3-7b14-4839-9a83-861aa5b02ea9",
        "execution": {
          "iopub.status.busy": "2023-12-17T15:14:58.354734Z",
          "iopub.execute_input": "2023-12-17T15:14:58.354986Z",
          "iopub.status.idle": "2023-12-17T17:33:01.232757Z",
          "shell.execute_reply.started": "2023-12-17T15:14:58.354963Z",
          "shell.execute_reply": "2023-12-17T17:33:01.231832Z"
        },
        "trusted": true
      },
      "execution_count": null,
      "outputs": [
        {
          "output_type": "stream",
          "name": "stdout",
          "text": [
            "Epoch 1/200\n",
            "12375/12375 [==============================] - 183s 14ms/step - loss: 0.0658 - val_loss: 0.0714 - lr: 0.0010\n",
            "Epoch 2/200\n",
            "12375/12375 [==============================] - 178s 14ms/step - loss: 0.0655 - val_loss: 0.0710 - lr: 0.0010\n",
            "Epoch 3/200\n",
            "12375/12375 [==============================] - 186s 15ms/step - loss: 0.0655 - val_loss: 0.0712 - lr: 0.0010\n",
            "Epoch 4/200\n",
            "12375/12375 [==============================] - 178s 14ms/step - loss: 0.0655 - val_loss: 0.0709 - lr: 0.0010\n",
            "Epoch 5/200\n",
            "12375/12375 [==============================] - 175s 14ms/step - loss: 0.0655 - val_loss: 0.0711 - lr: 0.0010\n",
            "Epoch 6/200\n",
            "12375/12375 [==============================] - 175s 14ms/step - loss: 0.0654 - val_loss: 0.0709 - lr: 0.0010\n",
            "Epoch 7/200\n",
            "12375/12375 [==============================] - 173s 14ms/step - loss: 0.0654 - val_loss: 0.0715 - lr: 0.0010\n",
            "Epoch 8/200\n",
            "12375/12375 [==============================] - 170s 14ms/step - loss: 0.0654 - val_loss: 0.0712 - lr: 0.0010\n",
            "Epoch 9/200\n",
            "12375/12375 [==============================] - 165s 13ms/step - loss: 0.0654 - val_loss: 0.0710 - lr: 0.0010\n",
            "Epoch 10/200\n",
            "12375/12375 [==============================] - 164s 13ms/step - loss: 0.0654 - val_loss: 0.0710 - lr: 0.0010\n",
            "Epoch 11/200\n",
            "12375/12375 [==============================] - 165s 13ms/step - loss: 0.0654 - val_loss: 0.0712 - lr: 0.0010\n",
            "Epoch 12/200\n",
            "12375/12375 [==============================] - 163s 13ms/step - loss: 0.0654 - val_loss: 0.0710 - lr: 0.0010\n",
            "Epoch 13/200\n",
            "12375/12375 [==============================] - 165s 13ms/step - loss: 0.0654 - val_loss: 0.0714 - lr: 0.0010\n",
            "Epoch 14/200\n",
            "12375/12375 [==============================] - 163s 13ms/step - loss: 0.0654 - val_loss: 0.0712 - lr: 0.0010\n",
            "Epoch 15/200\n",
            "12375/12375 [==============================] - 165s 13ms/step - loss: 0.0654 - val_loss: 0.0711 - lr: 0.0010\n",
            "Epoch 16/200\n",
            "12375/12375 [==============================] - 163s 13ms/step - loss: 0.0654 - val_loss: 0.0711 - lr: 0.0010\n",
            "Epoch 17/200\n",
            "12375/12375 [==============================] - 163s 13ms/step - loss: 0.0654 - val_loss: 0.0710 - lr: 1.0000e-04\n",
            "Epoch 18/200\n",
            "12375/12375 [==============================] - 164s 13ms/step - loss: 0.0654 - val_loss: 0.0711 - lr: 1.0000e-04\n"
          ]
        }
      ]
    },
    {
      "cell_type": "code",
      "source": [
        "best_epoch = np.argmin(history['val_loss'])\n",
        "plt.figure(figsize=(17,4))\n",
        "plt.plot(history['loss'], label='Training loss', alpha=.8, color='#ff7f0e')\n",
        "plt.plot(history['val_loss'], label='Validation loss', alpha=.9, color='#5a9aa5')\n",
        "plt.axvline(x=best_epoch, label='Best epoch', alpha=.3, ls='--', color='#5a9aa5')\n",
        "plt.title('Mean Squared Error')\n",
        "plt.legend()\n",
        "plt.grid(alpha=.3)\n",
        "plt.show()\n",
        "\n",
        "plt.figure(figsize=(18,3))\n",
        "plt.plot(history['lr'], label='Learning Rate', alpha=.8, color='#ff7f0e')\n",
        "plt.axvline(x=best_epoch, label='Best epoch', alpha=.3, ls='--', color='#5a9aa5')\n",
        "plt.legend()\n",
        "plt.grid(alpha=.3)\n",
        "plt.show()"
      ],
      "metadata": {
        "id": "Fq_5LJc-qKwG",
        "execution": {
          "iopub.status.busy": "2023-12-17T17:33:01.233888Z",
          "iopub.execute_input": "2023-12-17T17:33:01.234144Z",
          "iopub.status.idle": "2023-12-17T17:33:01.829054Z",
          "shell.execute_reply.started": "2023-12-17T17:33:01.234121Z",
          "shell.execute_reply": "2023-12-17T17:33:01.828065Z"
        },
        "trusted": true,
        "colab": {
          "base_uri": "https://localhost:8080/",
          "height": 683
        },
        "outputId": "975164c9-7ced-43f3-9213-2ddfdd6b1d54"
      },
      "execution_count": null,
      "outputs": [
        {
          "output_type": "display_data",
          "data": {
            "text/plain": [
              "<Figure size 1700x400 with 1 Axes>"
            ],
            "image/png": "[encoded data removed]"
          },
          "metadata": {}
        },
        {
          "output_type": "display_data",
          "data": {
            "text/plain": [
              "<Figure size 1800x300 with 1 Axes>"
            ],
            "image/png": "[encoded data removed]"
          },
          "metadata": {}
        }
      ]
    },
    {
      "cell_type": "code",
      "source": [
        "model.save('SimpleConvLSTM_3')\n",
        "del model"
      ],
      "metadata": {
        "id": "5Ru-e_mYqKy6",
        "execution": {
          "iopub.status.busy": "2023-12-17T17:33:01.830335Z",
          "iopub.execute_input": "2023-12-17T17:33:01.830704Z",
          "iopub.status.idle": "2023-12-17T17:33:21.015294Z",
          "shell.execute_reply.started": "2023-12-17T17:33:01.830669Z",
          "shell.execute_reply": "2023-12-17T17:33:21.014520Z"
        },
        "trusted": true
      },
      "execution_count": null,
      "outputs": []
    },
    {
      "cell_type": "code",
      "source": [
        "model = tfk.models.load_model('SimpleConvLSTM_3')"
      ],
      "metadata": {
        "id": "Lt5QpZKNIN2d",
        "execution": {
          "iopub.status.busy": "2023-12-17T17:33:21.020464Z",
          "iopub.execute_input": "2023-12-17T17:33:21.020826Z",
          "iopub.status.idle": "2023-12-17T17:33:28.534614Z",
          "shell.execute_reply.started": "2023-12-17T17:33:21.020800Z",
          "shell.execute_reply": "2023-12-17T17:33:28.533638Z"
        },
        "trusted": true
      },
      "execution_count": null,
      "outputs": []
    },
    {
      "cell_type": "code",
      "source": [
        "# Predict the test set using the model\n",
        "predictions = model.predict(X_test, verbose=0)\n",
        "\n",
        "# Print the shape of the predictions\n",
        "print(f\"Predictions shape: {predictions.shape}\")\n",
        "\n",
        "# Calculate and print Mean Squared Error (MSE)\n",
        "mean_squared_error = tfk.metrics.mean_squared_error(y_test.flatten(), predictions.flatten()).numpy()\n",
        "print(f\"Mean Squared Error: {mean_squared_error}\")\n",
        "\n",
        "# Calculate and print Mean Absolute Error (MAE)\n",
        "mean_absolute_error = tfk.metrics.mean_absolute_error(y_test.flatten(), predictions.flatten()).numpy()\n",
        "print(f\"Mean Absolute Error: {mean_absolute_error}\")"
      ],
      "metadata": {
        "id": "SyI0on1LqK1v",
        "execution": {
          "iopub.status.busy": "2023-12-17T17:33:28.578273Z",
          "iopub.execute_input": "2023-12-17T17:33:28.578642Z",
          "iopub.status.idle": "2023-12-17T17:33:28.710979Z",
          "shell.execute_reply.started": "2023-12-17T17:33:28.578612Z",
          "shell.execute_reply": "2023-12-17T17:33:28.709810Z"
        },
        "trusted": true,
        "colab": {
          "base_uri": "https://localhost:8080/"
        },
        "outputId": "ae7c47e4-e88f-4dce-fc13-17bea6048ceb"
      },
      "execution_count": null,
      "outputs": [
        {
          "output_type": "stream",
          "name": "stdout",
          "text": [
            "Predictions shape: (35096, 9, 1)\n",
            "Mean Squared Error: 0.06788840889930725\n",
            "Mean Absolute Error: 0.22178101539611816\n"
          ]
        }
      ]
    }
  ]
}